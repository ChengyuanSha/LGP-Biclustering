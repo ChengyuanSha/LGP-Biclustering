{
 "cells": [
  {
   "cell_type": "code",
   "execution_count": 1,
   "outputs": [],
   "source": [
    "import matplotlib.pyplot as plt\n",
    "import numpy as np\n",
    "import pandas as pd\n",
    "from sklearn.metrics import classification_report\n",
    "from linear_genetic_programming.lgp_classifier import LGPClassifier\n",
    "from sklearn.model_selection import train_test_split, cross_val_score\n",
    "from sklearn.model_selection import cross_validate\n",
    "from sklearn.metrics import accuracy_score\n",
    "from sklearn.preprocessing import MinMaxScaler\n",
    "from sklearn.metrics import f1_score\n",
    "from sklearn import metrics\n",
    "from sklearn.model_selection import cross_val_score\n",
    "import seaborn as sns\n",
    "%matplotlib inline\n"
   ],
   "metadata": {
    "collapsed": false,
    "pycharm": {
     "name": "#%%\n"
    }
   }
  },
  {
   "cell_type": "code",
   "execution_count": 2,
   "outputs": [],
   "source": [
    "sns.set()"
   ],
   "metadata": {
    "collapsed": false,
    "pycharm": {
     "name": "#%%\n"
    }
   }
  },
  {
   "cell_type": "code",
   "execution_count": 3,
   "outputs": [],
   "source": [
    "from linear_genetic_programming.lgp_classifier import LGPClassifier\n",
    "from sklearn.metrics import accuracy_score\n",
    "from sklearn.metrics import jaccard_score\n",
    "import pandas as pd\n",
    "import re\n",
    "import matplotlib\n",
    "import matplotlib.pyplot as plt\n",
    "import seaborn as sns\n",
    "import copy\n",
    "import numpy as np\n",
    "import itertools\n",
    "from scipy.sparse import csr_matrix\n",
    "from sklearn.preprocessing import MinMaxScaler\n",
    "from collections import Counter\n",
    "from matplotlib.pyplot import figure"
   ],
   "metadata": {
    "collapsed": false,
    "pycharm": {
     "name": "#%%\n"
    }
   }
  },
  {
   "cell_type": "code",
   "execution_count": 4,
   "outputs": [],
   "source": [
    "# import warnings\n",
    "# warnings.filterwarnings('ignore')\n",
    "# %matplotlib widget\n",
    "# %matplotlib notebook\n",
    "%matplotlib inline\n",
    "sns.set()\n",
    "matplotlib.rcParams['pdf.fonttype'] = 42\n",
    "matplotlib.rcParams['ps.fonttype'] = 42\n"
   ],
   "metadata": {
    "collapsed": false,
    "pycharm": {
     "name": "#%%\n"
    }
   }
  },
  {
   "cell_type": "code",
   "execution_count": 5,
   "outputs": [],
   "source": [
    "# Dr. Steffany data New Preprocessing\n",
    "# 1: control, 0: case\n",
    "# path2pickle = '../dataset/lgp702SteffanyNew.pkl'\n",
    "# df = pd.read_csv('../dataset/Discovery_Cohort2020_08_25_forTing_imputed_fifth_min.csv')\n",
    "path2pickle = '../dataset/DLB_sub_lgp.pkl'\n",
    "df = pd.read_csv('../dataset/sub_DLB_metabolomics.csv')\n",
    "names = df.columns[5:]\n",
    "y = df['Diagnosis'].to_numpy()\n",
    "y = np.where(y == 'DLB', 0, y)\n",
    "y = np.where(y == 'CTRL', 1, y)\n",
    "y = y.tolist()\n",
    "X = df.iloc[:, 5:].to_numpy()\n",
    "scaler=MinMaxScaler((-1,1))\n",
    "X = scaler.fit_transform(X)"
   ],
   "metadata": {
    "collapsed": false,
    "pycharm": {
     "name": "#%%\n"
    }
   }
  },
  {
   "cell_type": "code",
   "execution_count": 6,
   "outputs": [],
   "source": [
    "# preprocess data\n",
    "df_disease = df[df['Diagnosis'] == 'DLB']\n",
    "df_ctrl = df[df['Diagnosis'] == 'CTRL']\n",
    "\n",
    "y_disease = df_disease['Diagnosis'].to_numpy()\n",
    "y_disease = np.where(y_disease == 'DLB', 0, y_disease)\n",
    "y_disease = np.where(y_disease == 'CTRL', 1, y_disease)\n",
    "# y_disease = y_disease.tolist()\n",
    "\n",
    "y_ctrl = df_ctrl['Diagnosis'].to_numpy()\n",
    "y_ctrl = np.where(y_ctrl == 'DLB', 0, y_ctrl)\n",
    "y_ctrl = np.where(y_ctrl == 'CTRL', 1, y_ctrl)\n",
    "y_ctrl = y_ctrl.tolist()\n",
    "\n",
    "X_disease = df_disease.iloc[:, 5:].to_numpy()\n",
    "X_ctrl = df_ctrl.iloc[:, 5:].to_numpy()\n",
    "scaler = MinMaxScaler((-1, 1))\n",
    "X_disease = scaler.fit_transform(X_disease)\n",
    "X_ctrl = scaler.fit_transform(X_ctrl)"
   ],
   "metadata": {
    "collapsed": false,
    "pycharm": {
     "name": "#%%\n"
    }
   }
  },
  {
   "cell_type": "code",
   "execution_count": 7,
   "outputs": [],
   "source": [
    "# # normalize df\n",
    "# df[df.columns[5:]] = scaler.fit_transform(df[df.columns[5:]])"
   ],
   "metadata": {
    "collapsed": false,
    "pycharm": {
     "name": "#%%\n"
    }
   }
  },
  {
   "cell_type": "code",
   "execution_count": 8,
   "outputs": [],
   "source": [
    "# df['Diagnosis'] = df['Diagnosis'].replace(['DLB'], 0)\n",
    "# df['Diagnosis'] = df['Diagnosis'].replace(['CTRL'], 1)"
   ],
   "metadata": {
    "collapsed": false,
    "pycharm": {
     "name": "#%%\n"
    }
   }
  },
  {
   "cell_type": "code",
   "execution_count": 9,
   "outputs": [],
   "source": [
    "def load_model():\n",
    "\tlgp_models = LGPClassifier.load_model(path2pickle)\n",
    "\tmodel_list_raw = [i for i in lgp_models]\n",
    "\treturn model_list_raw\n",
    "model_list_raw = load_model()\n"
   ],
   "metadata": {
    "collapsed": false,
    "pycharm": {
     "name": "#%%\n"
    }
   }
  },
  {
   "cell_type": "code",
   "execution_count": 10,
   "outputs": [],
   "source": [
    "# only counting disease samples\n",
    "only_disease = False"
   ],
   "metadata": {
    "collapsed": false,
    "pycharm": {
     "name": "#%%\n"
    }
   }
  },
  {
   "cell_type": "code",
   "execution_count": 11,
   "outputs": [
    {
     "data": {
      "text/plain": "array([1, 1, 1, 1, 1, 1, 1, 1, 1, 1, 1, 0, 0, 1, 1, 1, 0, 1, 0, 0, 1, 1,\n       1, 1, 1, 1, 1, 1, 1, 1, 0, 1, 0, 0, 1, 1, 1, 0, 1, 1, 1, 1, 1, 0,\n       1, 1, 0, 1, 1, 1, 0, 1, 0, 1, 1, 1, 1, 1, 1, 1, 0, 1, 0, 1, 1, 1,\n       1, 1, 1, 1, 1, 1, 1, 1, 1, 1, 1, 1, 0, 1, 0, 0, 0, 0, 0, 0, 1, 0,\n       0, 0, 1, 1, 1, 0, 0, 0, 1, 0, 0, 0, 1, 0, 1, 0, 1, 0, 0, 0, 0, 0,\n       1, 0, 0, 1, 1, 1, 1, 0, 1, 0, 0, 0, 0, 1], dtype=int64)"
     },
     "execution_count": 11,
     "metadata": {},
     "output_type": "execute_result"
    }
   ],
   "source": [
    "model_list_raw[80].predict(X)\n"
   ],
   "metadata": {
    "collapsed": false,
    "pycharm": {
     "name": "#%%\n"
    }
   }
  },
  {
   "cell_type": "code",
   "execution_count": 12,
   "outputs": [],
   "source": [
    "from clustering_program_utils import convert_program_str_repr\n",
    "# preprocessing raw list\n",
    "accuracy = []\n",
    "model_list = []\n",
    "sample_list = [] # record overlapping samples\n",
    "for m in model_list_raw:\n",
    "\ty_pred = m.predict(X)\n",
    "\tscore = accuracy_score(y, y_pred)\n",
    "\tif m.testingAccuracy > 0.75: #only filter\n",
    "\t\tmodel_list.append(m)\n",
    "\t\taccuracy.append(score)\n",
    "\t\tif only_disease:\n",
    "\t\t\ttemp_y = np.array(y)\n",
    "\t\t\tonly_index = np.argwhere(temp_y==0).flatten()\n",
    "\t\t\ttemp_y = temp_y[only_index]\n",
    "\t\t\ttemp_y_pred = y_pred[only_index]\n",
    "\t\t\tsample_list.append(np.argwhere(temp_y==temp_y_pred).flatten())\n",
    "\t\telse:\n",
    "\t\t\tsample_list.append(np.argwhere(y==y_pred).flatten())"
   ],
   "metadata": {
    "collapsed": false,
    "pycharm": {
     "name": "#%%\n"
    }
   }
  },
  {
   "cell_type": "markdown",
   "source": [
    "Biclustering experiment"
   ],
   "metadata": {
    "collapsed": false,
    "pycharm": {
     "name": "#%% md\n"
    }
   }
  },
  {
   "cell_type": "code",
   "execution_count": 13,
   "outputs": [
    {
     "data": {
      "text/plain": "SpectralBiclustering(method='log', n_clusters=2, random_state=0)"
     },
     "execution_count": 13,
     "metadata": {},
     "output_type": "execute_result"
    }
   ],
   "source": [
    "from sklearn.cluster import SpectralBiclustering\n",
    "biclustering_matrix = np.zeros( (len(model_list), X_disease.shape[0] ))\n",
    "\n",
    "for row, program in enumerate(model_list):\n",
    "\t\tbiclustering_matrix[row, :] = program.predict_proba(X_disease)[:,1]\n",
    "\n",
    "model = SpectralBiclustering(n_clusters=2, method='log', random_state=0)\n",
    "model.fit(biclustering_matrix)"
   ],
   "metadata": {
    "collapsed": false,
    "pycharm": {
     "name": "#%%\n"
    }
   }
  },
  {
   "cell_type": "code",
   "execution_count": 14,
   "outputs": [],
   "source": [
    "# model.row_labels_"
   ],
   "metadata": {
    "collapsed": false,
    "pycharm": {
     "name": "#%%\n"
    }
   }
  },
  {
   "cell_type": "code",
   "execution_count": 15,
   "outputs": [
    {
     "data": {
      "text/plain": "{0: 26, 1: 23}"
     },
     "execution_count": 15,
     "metadata": {},
     "output_type": "execute_result"
    }
   ],
   "source": [
    "unique, counts = np.unique(model.column_labels_, return_counts=True)\n",
    "dict(zip(unique, counts))\n"
   ],
   "metadata": {
    "collapsed": false,
    "pycharm": {
     "name": "#%%\n"
    }
   }
  },
  {
   "cell_type": "code",
   "execution_count": 16,
   "outputs": [],
   "source": [
    "# filter using clustering\n",
    "model_list = [i for c, i in enumerate(model_list) if model.row_labels_[c] == 1]"
   ],
   "metadata": {
    "collapsed": false,
    "pycharm": {
     "name": "#%%\n"
    }
   }
  },
  {
   "cell_type": "code",
   "execution_count": 17,
   "outputs": [],
   "source": [
    "accuracy = [i for c, i in enumerate(accuracy) if model.row_labels_[c] == 1]\n"
   ],
   "metadata": {
    "collapsed": false,
    "pycharm": {
     "name": "#%%\n"
    }
   }
  },
  {
   "cell_type": "code",
   "execution_count": 18,
   "outputs": [
    {
     "data": {
      "text/plain": "83"
     },
     "execution_count": 18,
     "metadata": {},
     "output_type": "execute_result"
    }
   ],
   "source": [
    "num_of_models = len(model_list)\n",
    "num_of_models"
   ],
   "metadata": {
    "collapsed": false,
    "pycharm": {
     "name": "#%%\n"
    }
   }
  },
  {
   "cell_type": "code",
   "execution_count": 18,
   "outputs": [],
   "source": [],
   "metadata": {
    "collapsed": false,
    "pycharm": {
     "name": "#%%\n"
    }
   }
  },
  {
   "cell_type": "code",
   "execution_count": 19,
   "outputs": [],
   "source": [
    "models_unfiltered = model_list"
   ],
   "metadata": {
    "collapsed": false,
    "pycharm": {
     "name": "#%%\n"
    }
   }
  },
  {
   "cell_type": "code",
   "execution_count": 20,
   "outputs": [],
   "source": [
    "import copy\n",
    "import re\n",
    "def calculate_featureList_and_calcvariableList(model_list):\n",
    "    numOfVariable = model_list[0].numberOfVariable\n",
    "    feature_list = []\n",
    "    program_eff_f_list = []\n",
    "    for i in model_list:\n",
    "        feature_list.append(re.findall(r'r\\d+', i.bestEffProgStr_))\n",
    "        program_eff_f_list.append(i.bestEffProgStr_.count('\\n'))\n",
    "    calculation_variable_list = copy.deepcopy(feature_list)  # raw list for later usage\n",
    "    # processing raw list to get calculation_variable_list\n",
    "    i = 0\n",
    "    while i < len(calculation_variable_list):\n",
    "        j = 0\n",
    "        program = calculation_variable_list[i]\n",
    "        while j < len(program):\n",
    "            if int(calculation_variable_list[i][j][1:]) > numOfVariable:  # remove calculation variable\n",
    "                del calculation_variable_list[i][j]\n",
    "            else:\n",
    "                calculation_variable_list[i][j] = int(calculation_variable_list[i][j][1:])\n",
    "                j += 1  # ONLY INCREMENT HERE\n",
    "        i += 1\n",
    "    i = 0\n",
    "    # processing raw list to get feature_list\n",
    "    while i < len(feature_list):\n",
    "        j = 0\n",
    "        program = feature_list[i]\n",
    "        while j < len(program):\n",
    "            if int(feature_list[i][j][1:]) < numOfVariable:  # remove calculation variable\n",
    "                del feature_list[i][j]\n",
    "            else:\n",
    "                feature_list[i][j] = int(feature_list[i][j][1:]) - numOfVariable\n",
    "                j += 1  # ONLY INCREMENT HERE\n",
    "        i += 1\n",
    "\t        # self.calculation_variable_list = calculation_variable_list\n",
    "    return np.array(feature_list)\n",
    "\n",
    "# num_to_name = {'AD':0, 'Normal':1}\n",
    "# y_test = [num_to_name[i] for i in y_test]"
   ],
   "metadata": {
    "collapsed": false,
    "pycharm": {
     "name": "#%%\n"
    }
   }
  },
  {
   "cell_type": "code",
   "execution_count": 21,
   "outputs": [
    {
     "name": "stderr",
     "output_type": "stream",
     "text": [
      "C:\\Users\\10455\\anaconda3\\envs\\lgp\\lib\\site-packages\\ipykernel_launcher.py:36: VisibleDeprecationWarning: Creating an ndarray from ragged nested sequences (which is a list-or-tuple of lists-or-tuples-or ndarrays with different lengths or shapes) is deprecated. If you meant to do this, you must specify 'dtype=object' when creating the ndarray\n"
     ]
    }
   ],
   "source": [
    "feature_list = calculate_featureList_and_calcvariableList(models_unfiltered)\n",
    "accuracy_list =  [ m.testingAccuracy for m in models_unfiltered]"
   ],
   "metadata": {
    "collapsed": false,
    "pycharm": {
     "name": "#%%\n"
    }
   }
  },
  {
   "cell_type": "code",
   "execution_count": 22,
   "outputs": [],
   "source": [
    "eff_f_list = [len(i) for i in feature_list]\n",
    "eff_f_list = np.array(eff_f_list)"
   ],
   "metadata": {
    "collapsed": false,
    "pycharm": {
     "name": "#%%\n"
    }
   }
  },
  {
   "cell_type": "code",
   "execution_count": 23,
   "outputs": [],
   "source": [
    "index = np.where(eff_f_list==0)\n",
    "eff_f_list = np.delete(eff_f_list, index)\n",
    "accuracy_list = np.delete(accuracy_list, index)"
   ],
   "metadata": {
    "collapsed": false,
    "pycharm": {
     "name": "#%%\n"
    }
   }
  },
  {
   "cell_type": "code",
   "execution_count": 24,
   "outputs": [
    {
     "data": {
      "text/plain": "<Figure size 360x360 with 1 Axes>",
      "image/png": "[encoded data removed]"
     },
     "metadata": {},
     "output_type": "display_data"
    }
   ],
   "source": [
    "ax = sns.displot(eff_f_list , kde=True)\n",
    "ax.set(xlabel='Number of effective features', ylabel='Number of models')\n",
    "ax.set(xlim=(1,10),ylim=(1,120))\n",
    "plt.gcf().subplots_adjust(bottom=0.1)\n",
    "plt.savefig('len.tif', dpi=300)\n",
    "plt.show()"
   ],
   "metadata": {
    "collapsed": false,
    "pycharm": {
     "name": "#%%\n"
    }
   }
  },
  {
   "cell_type": "code",
   "execution_count": 25,
   "outputs": [
    {
     "data": {
      "text/plain": "83"
     },
     "execution_count": 25,
     "metadata": {},
     "output_type": "execute_result"
    }
   ],
   "source": [
    "# len(models_filtered)\n",
    "len(models_unfiltered)"
   ],
   "metadata": {
    "collapsed": false,
    "pycharm": {
     "name": "#%%\n"
    }
   }
  },
  {
   "cell_type": "code",
   "execution_count": 26,
   "outputs": [],
   "source": [
    "# F1 score\n",
    "f1_scores = [m.validationScores['f1'] for m in models_unfiltered]"
   ],
   "metadata": {
    "collapsed": false,
    "pycharm": {
     "name": "#%%\n"
    }
   }
  },
  {
   "cell_type": "code",
   "execution_count": 27,
   "outputs": [
    {
     "data": {
      "text/plain": "<Figure size 360x360 with 1 Axes>",
      "image/png": "[encoded data removed]"
     },
     "metadata": {},
     "output_type": "display_data"
    }
   ],
   "source": [
    "ax = sns.displot(f1_scores, kde=True)\n",
    "ax.set(xlabel='F1', ylabel='Number of models')\n",
    "ax.set(xlim=(0,1),ylim=(0,80))\n",
    "plt.gcf().subplots_adjust(bottom=0.1)\n",
    "plt.savefig('f1.tif', dpi=300)\n",
    "\n",
    "plt.show()"
   ],
   "metadata": {
    "collapsed": false,
    "pycharm": {
     "name": "#%%\n"
    }
   }
  },
  {
   "cell_type": "code",
   "execution_count": 27,
   "outputs": [],
   "source": [],
   "metadata": {
    "collapsed": false,
    "pycharm": {
     "name": "#%%\n"
    }
   }
  },
  {
   "cell_type": "code",
   "execution_count": 28,
   "outputs": [],
   "source": [
    "auc = [ m.validationScores['auc'] for m in models_unfiltered]"
   ],
   "metadata": {
    "collapsed": false,
    "pycharm": {
     "name": "#%%\n"
    }
   }
  },
  {
   "cell_type": "code",
   "execution_count": 28,
   "outputs": [],
   "source": [],
   "metadata": {
    "collapsed": false,
    "pycharm": {
     "name": "#%%\n"
    }
   }
  },
  {
   "cell_type": "code",
   "execution_count": 29,
   "outputs": [
    {
     "data": {
      "text/plain": "<Figure size 360x360 with 1 Axes>",
      "image/png": "[encoded data removed]"
     },
     "metadata": {},
     "output_type": "display_data"
    }
   ],
   "source": [
    "ax = sns.displot(auc, kde=True)\n",
    "ax.set(xlabel='AUC', ylabel='Number of models')\n",
    "ax.set(xlim=(0,1),ylim=(0,80))\n",
    "plt.gcf().subplots_adjust(bottom=0.1)\n",
    "plt.savefig('auc.tif', dpi=300)\n",
    "plt.show()"
   ],
   "metadata": {
    "collapsed": false,
    "pycharm": {
     "name": "#%%\n"
    }
   }
  },
  {
   "cell_type": "code",
   "execution_count": 29,
   "outputs": [],
   "source": [],
   "metadata": {
    "collapsed": false,
    "pycharm": {
     "name": "#%%\n"
    }
   }
  },
  {
   "cell_type": "code",
   "execution_count": 30,
   "outputs": [
    {
     "data": {
      "text/plain": "<Figure size 360x360 with 1 Axes>",
      "image/png": "[encoded data removed]"
     },
     "metadata": {},
     "output_type": "display_data"
    }
   ],
   "source": [
    "ax = sns.displot(accuracy_list, kde=True)\n",
    "ax.set(xlabel='Testing set accuracy', ylabel='Number of models')\n",
    "ax.set(xlim=(0.75,1),ylim=(0,150))\n",
    "plt.gcf().subplots_adjust(bottom=0.1)\n",
    "plt.savefig('testing_acc.tif', dpi=300)\n",
    "plt.show()\n"
   ],
   "metadata": {
    "collapsed": false,
    "pycharm": {
     "name": "#%%\n"
    }
   }
  },
  {
   "cell_type": "code",
   "execution_count": 31,
   "outputs": [],
   "source": [
    "# from sklearn.metrics import plot_roc_curve\n",
    "# import matplotlib.pyplot as plt\n",
    "#\n",
    "# # ax = plt.gca()\n",
    "# # for i in models_unfiltered:\n",
    "# # \tplot_roc_curve(i, X_test, y_test, ax=ax)\n",
    "# plot_roc_curve(models_unfiltered[0], X_test, y_test)\n",
    "\n",
    "# num_to_name = {'AD':1, 'Normal':0}\n",
    "# y_test = [num_to_name[i] for i in y_test]"
   ],
   "metadata": {
    "collapsed": false,
    "pycharm": {
     "name": "#%%\n"
    }
   }
  },
  {
   "cell_type": "code",
   "execution_count": 32,
   "outputs": [],
   "source": [
    "\n",
    "# draw complete"
   ],
   "metadata": {
    "collapsed": false,
    "pycharm": {
     "name": "#%%\n"
    }
   }
  },
  {
   "cell_type": "code",
   "execution_count": 32,
   "outputs": [],
   "source": [],
   "metadata": {
    "collapsed": false,
    "pycharm": {
     "name": "#%%\n"
    }
   }
  },
  {
   "cell_type": "code",
   "execution_count": 33,
   "outputs": [
    {
     "name": "stderr",
     "output_type": "stream",
     "text": [
      "C:\\Users\\10455\\anaconda3\\envs\\lgp\\lib\\site-packages\\seaborn\\_decorators.py:43: FutureWarning: Pass the following variables as keyword args: x, y. From version 0.12, the only valid positional argument will be `data`, and passing other arguments without an explicit keyword will result in an error or misinterpretation.\n",
      "  FutureWarning\n"
     ]
    },
    {
     "data": {
      "text/plain": "<Figure size 432x288 with 1 Axes>",
      "image/png": "[encoded data removed]"
     },
     "metadata": {},
     "output_type": "display_data"
    }
   ],
   "source": [
    "# ax = sns.stripplot(eff_f_list, accuracy_list, size=2)\n",
    "ax =  sns.violinplot(eff_f_list, accuracy_list, cut=0)\n",
    "ax.set(xlabel='Number of features', ylabel='Testing accuracy')\n",
    "ax.set(xlim=(-1,10),ylim=(0.75,1))\n",
    "plt.gcf().subplots_adjust(bottom=0.15)\n",
    "plt.savefig('f_vs_acc.tif', dpi=300)\n",
    "plt.show()"
   ],
   "metadata": {
    "collapsed": false,
    "pycharm": {
     "name": "#%%\n"
    }
   }
  },
  {
   "cell_type": "code",
   "execution_count": 34,
   "outputs": [
    {
     "name": "stdout",
     "output_type": "stream",
     "text": [
      "Pearsons correlation: 0.194, p value: 0.079\n"
     ]
    }
   ],
   "source": [
    "from scipy.stats import pearsonr\n",
    "corr, pvalue = pearsonr(eff_f_list, accuracy_list)\n",
    "print('Pearsons correlation: %.3f, p value: %.3f' % (corr, pvalue))"
   ],
   "metadata": {
    "collapsed": false,
    "pycharm": {
     "name": "#%%\n"
    }
   }
  },
  {
   "cell_type": "code",
   "execution_count": 35,
   "outputs": [],
   "source": [
    "from collections import Counter\n",
    "from functools import reduce\n",
    "from operator import add\n",
    "def get_occurrence_from_feature_list_given_length(given_length, feature_list):\n",
    "    if given_length == 'All':\n",
    "        element = feature_list.tolist()\n",
    "        rank = Counter(reduce(add, element)) # flatten list and count\n",
    "    else:\n",
    "        element = np.asarray([i for i in feature_list if len(i) == given_length])\n",
    "        rank = Counter(element.flatten())\n",
    "    if len(element) == 0:\n",
    "        raise ValueError(\"There is no program in this length\")\n",
    "    features, num_of_occurrences = zip(*rank.most_common())\n",
    "    return features, num_of_occurrences, len(element)"
   ],
   "metadata": {
    "collapsed": false,
    "pycharm": {
     "name": "#%%\n"
    }
   }
  },
  {
   "cell_type": "code",
   "execution_count": 36,
   "outputs": [],
   "source": [
    "features, num_of_occurrences, cur_feature_num = get_occurrence_from_feature_list_given_length('All', feature_list)"
   ],
   "metadata": {
    "collapsed": false,
    "pycharm": {
     "name": "#%%\n"
    }
   }
  },
  {
   "cell_type": "code",
   "execution_count": 37,
   "outputs": [],
   "source": [
    "features = [names[i] for i in features]"
   ],
   "metadata": {
    "collapsed": false,
    "pycharm": {
     "name": "#%%\n"
    }
   }
  },
  {
   "cell_type": "code",
   "execution_count": 38,
   "outputs": [],
   "source": [
    "df_f_rank = pd.DataFrame({'features': features, 'num_of_occurrences': num_of_occurrences})\n"
   ],
   "metadata": {
    "collapsed": false,
    "pycharm": {
     "name": "#%%\n"
    }
   }
  },
  {
   "cell_type": "code",
   "execution_count": 39,
   "outputs": [
    {
     "data": {
      "text/plain": "<Figure size 432x288 with 1 Axes>",
      "image/png": "[encoded data removed]"
     },
     "metadata": {},
     "output_type": "display_data"
    }
   ],
   "source": [
    "feature_importance = sns.barplot(x='num_of_occurrences', y='features',\n",
    "                                 data=df_f_rank.iloc[:20, :], palette=\"Blues_d\")\n",
    "plt.tight_layout()\n",
    "feature_importance.set(xlim=(0,70))\n",
    "feature_importance.set(xlabel='Number of occurrences', ylabel='Features')\n",
    "plt.savefig('f_rank.tif', dpi=300)\n",
    "plt.show()"
   ],
   "metadata": {
    "collapsed": false,
    "pycharm": {
     "name": "#%%\n"
    }
   }
  },
  {
   "cell_type": "code",
   "execution_count": 40,
   "outputs": [],
   "source": [
    "# difference coefficient\n",
    "# from differential_coeffcient import get_diff_coefficient\n",
    "# diff_coe, corr_df_control, corr_df0_case = get_diff_coefficient()"
   ],
   "metadata": {
    "collapsed": false,
    "pycharm": {
     "name": "#%%\n"
    }
   }
  },
  {
   "cell_type": "markdown",
   "source": [
    "Network & differential coefficient"
   ],
   "metadata": {
    "collapsed": false,
    "pycharm": {
     "name": "#%% md\n"
    }
   }
  },
  {
   "cell_type": "code",
   "execution_count": 41,
   "outputs": [],
   "source": [
    "# diff_coe_matrix = diff_coe.pivot_table(columns='Source', index='Target', values='Weight')\n",
    "# corr_df_control_matrix = corr_df_control.pivot_table(columns='Source', index='Target', values='Weight')\n",
    "# corr_df0_case_matrix = corr_df0_case.pivot_table(columns='Source', index='Target', values='Weight')"
   ],
   "metadata": {
    "collapsed": false,
    "pycharm": {
     "name": "#%%\n"
    }
   }
  },
  {
   "cell_type": "code",
   "execution_count": 42,
   "outputs": [],
   "source": [
    "# diff_coe_matrix = diff_coe_matrix.round(2)\n",
    "# corr_df_control_matrix = corr_df_control_matrix.round(2)\n",
    "# corr_df0_case_matrix = corr_df0_case_matrix.round(2)"
   ],
   "metadata": {
    "collapsed": false,
    "pycharm": {
     "name": "#%%\n"
    }
   }
  },
  {
   "cell_type": "code",
   "execution_count": 45,
   "outputs": [
    {
     "name": "stderr",
     "output_type": "stream",
     "text": [
      "C:\\Users\\10455\\anaconda3\\envs\\lgp\\lib\\site-packages\\scipy\\sparse\\_index.py:124: SparseEfficiencyWarning: Changing the sparsity structure of a csc_matrix is expensive. lil_matrix is more efficient.\n",
      "  self._set_arrayXarray(i, j, x)\n"
     ]
    }
   ],
   "source": [
    "from _processing_funcs import ResultProcessing\n",
    "from clustering_program_utils import create_network, create_diff_coe_network\n",
    "\n",
    "result_data = ResultProcessing()\n",
    "result_data.feature_list = feature_list\n",
    "\n",
    "# co-occurring\n",
    "cluster_html = create_network(result_data, top_percentage=10, edge_threshold=3, names=names, num_of_models= num_of_models)\n",
    "\n"
   ],
   "metadata": {
    "collapsed": false,
    "pycharm": {
     "name": "#%%\n"
    }
   }
  },
  {
   "cell_type": "code",
   "execution_count": 46,
   "outputs": [
    {
     "name": "stdout",
     "output_type": "stream",
     "text": [
      "Dash app running on http://127.0.0.1:8052/\n"
     ]
    }
   ],
   "source": [
    "from jupyter_dash import JupyterDash\n",
    "import dash_core_components as dcc\n",
    "import dash_html_components as html\n",
    "from dash.dependencies import Input, Output\n",
    "from _processing_funcs import ResultProcessing\n",
    "import dash_cytoscape as cyto\n",
    "\n",
    "cyto.load_extra_layouts()\n",
    "app = JupyterDash(__name__)\n",
    "\n",
    "app.layout = cluster_html\n",
    "\n",
    "# Run app and display result inline in the notebook\n",
    "app.run_server(mode='external', port=8052)"
   ],
   "metadata": {
    "collapsed": false,
    "pycharm": {
     "name": "#%%\n"
    }
   }
  },
  {
   "cell_type": "markdown",
   "source": [
    "age"
   ],
   "metadata": {
    "collapsed": false,
    "pycharm": {
     "name": "#%% md\n"
    }
   }
  },
  {
   "cell_type": "code",
   "execution_count": null,
   "outputs": [],
   "source": [
    "# smaller one\n",
    "cluster_num = 1"
   ],
   "metadata": {
    "collapsed": false,
    "pycharm": {
     "name": "#%%\n"
    }
   }
  },
  {
   "cell_type": "code",
   "execution_count": null,
   "outputs": [],
   "source": [
    "df_age = df.sort_values('Age')\n",
    "df_age = df_age[df['Diagnosis'] == 'DLB']"
   ],
   "metadata": {
    "collapsed": false,
    "pycharm": {
     "name": "#%%\n"
    }
   }
  },
  {
   "cell_type": "code",
   "execution_count": null,
   "outputs": [],
   "source": [
    "df_age.iloc[0][4]\n"
   ],
   "metadata": {
    "collapsed": false,
    "pycharm": {
     "name": "#%%\n"
    }
   }
  },
  {
   "cell_type": "code",
   "execution_count": null,
   "outputs": [],
   "source": [
    "len(model.column_labels_)"
   ],
   "metadata": {
    "collapsed": false,
    "pycharm": {
     "name": "#%%\n"
    }
   }
  },
  {
   "cell_type": "code",
   "execution_count": null,
   "outputs": [],
   "source": [
    "ages = []\n",
    "for c, i in enumerate(model.column_labels_):\n",
    "    if i == cluster_num:\n",
    "        ages.append(df_age.iloc[c][4])"
   ],
   "metadata": {
    "collapsed": false,
    "pycharm": {
     "name": "#%%\n"
    }
   }
  },
  {
   "cell_type": "code",
   "execution_count": null,
   "outputs": [],
   "source": [
    "ax = sns.displot(ages)\n",
    "ax.set_xlabels('Ages')\n",
    "ax.set(xlim=(50,90), ylim=(0, 10))\n",
    "# ax.set_ylim(0, 1)\n",
    "# ax.set_xlabel('age', fontsize=12)\n",
    "# ax.set_ylabel('correctly classified percentage', fontsize=12)\n",
    "# plt.savefig('correct_percentage.jpeg', dpi=300, format='JPEG')\n",
    "plt.savefig('age.jpeg', dpi=300, format='JPEG')"
   ],
   "metadata": {
    "collapsed": false,
    "pycharm": {
     "name": "#%%\n"
    }
   }
  },
  {
   "cell_type": "code",
   "execution_count": null,
   "outputs": [],
   "source": [
    "gender = []\n",
    "for c, i in enumerate(model.column_labels_):\n",
    "    if i == cluster_num:\n",
    "        gender.append(df_age.iloc[c][3])"
   ],
   "metadata": {
    "collapsed": false,
    "pycharm": {
     "name": "#%%\n"
    }
   }
  },
  {
   "cell_type": "code",
   "execution_count": null,
   "outputs": [],
   "source": [],
   "metadata": {
    "collapsed": false,
    "pycharm": {
     "name": "#%%\n"
    }
   }
  },
  {
   "cell_type": "code",
   "execution_count": null,
   "outputs": [],
   "source": [
    "ax = sns.displot(sorted(gender))\n",
    "ax.set_xlabels('Gender')\n",
    "ax.set(ylim=(0, 40))\n",
    "plt.savefig('gender.jpeg', dpi=300, format='JPEG')"
   ],
   "metadata": {
    "collapsed": false,
    "pycharm": {
     "name": "#%%\n"
    }
   }
  },
  {
   "cell_type": "code",
   "execution_count": null,
   "outputs": [],
   "source": [
    "unique, counts = np.unique(df_age.iloc[:, 3], return_counts=True)\n",
    "ori_gender_dic = dict(zip(unique, counts))\n",
    "ori_gender_dic"
   ],
   "metadata": {
    "collapsed": false,
    "pycharm": {
     "name": "#%%\n"
    }
   }
  },
  {
   "cell_type": "code",
   "execution_count": null,
   "outputs": [],
   "source": [
    "temp_a = ['F' for i in range(ori_gender_dic['F'])]\n",
    "temp_b = ['M' for i in range(ori_gender_dic['M'])]\n",
    "ori_gender = temp_a + temp_b"
   ],
   "metadata": {
    "collapsed": false,
    "pycharm": {
     "name": "#%%\n"
    }
   }
  },
  {
   "cell_type": "code",
   "execution_count": null,
   "outputs": [],
   "source": [
    "ax = sns.displot(ori_gender)\n",
    "ax.set_titles('Original Gender Distribution')\n",
    "ax.set_xlabels('Gender')\n",
    "ax.set(ylim=(0, 40))"
   ],
   "metadata": {
    "collapsed": false,
    "pycharm": {
     "name": "#%%\n"
    }
   }
  },
  {
   "cell_type": "code",
   "execution_count": null,
   "outputs": [],
   "source": [
    "mmse_df = pd.read_csv('../dataset/MMSE.csv')\n",
    "mmse_df = mmse_df[df['Diagnosis'] == 'DLB']"
   ],
   "metadata": {
    "collapsed": false,
    "pycharm": {
     "name": "#%%\n"
    }
   }
  },
  {
   "cell_type": "code",
   "execution_count": null,
   "outputs": [],
   "source": [
    "mmse_list = []\n",
    "for c, i in enumerate(model.column_labels_):\n",
    "    if i == cluster_num:\n",
    "        mmse_list.append(mmse_df.iloc[c][3])\n"
   ],
   "metadata": {
    "collapsed": false,
    "pycharm": {
     "name": "#%%\n"
    }
   }
  },
  {
   "cell_type": "code",
   "execution_count": null,
   "outputs": [],
   "source": [
    "ax = sns.displot(mmse_list)\n",
    "ax.set_xlabels(\"MMSE\")\n",
    "ax.set(xlim=(0, 30), ylim=(0,15))\n",
    "plt.savefig('MMSE_dis.jpeg', dpi=300, format='JPEG')"
   ],
   "metadata": {
    "collapsed": false,
    "pycharm": {
     "name": "#%%\n"
    }
   }
  },
  {
   "cell_type": "code",
   "execution_count": null,
   "outputs": [],
   "source": [
    "top20 = df_f_rank.iloc[:20, :]"
   ],
   "metadata": {
    "collapsed": false,
    "pycharm": {
     "name": "#%%\n"
    }
   }
  },
  {
   "cell_type": "code",
   "execution_count": null,
   "outputs": [],
   "source": [
    "df.iloc[:, df.columns.isin(top20['features'].values )]"
   ],
   "metadata": {
    "collapsed": false,
    "pycharm": {
     "name": "#%%\n"
    }
   }
  },
  {
   "cell_type": "code",
   "execution_count": null,
   "outputs": [],
   "source": [
    "from scipy.stats import pearsonr\n",
    "pearsonr(mmse_df[\"MMSE\"], mmse_df[\"Age\"])\n"
   ],
   "metadata": {
    "collapsed": false,
    "pycharm": {
     "name": "#%%\n"
    }
   }
  },
  {
   "cell_type": "code",
   "execution_count": null,
   "outputs": [],
   "source": [
    "df.iloc[:, df.columns.isin(top20['features'].values )]"
   ],
   "metadata": {
    "collapsed": false,
    "pycharm": {
     "name": "#%%\n"
    }
   }
  },
  {
   "cell_type": "code",
   "execution_count": null,
   "outputs": [],
   "source": [],
   "metadata": {
    "collapsed": false,
    "pycharm": {
     "name": "#%%\n"
    }
   }
  },
  {
   "cell_type": "code",
   "execution_count": null,
   "outputs": [],
   "source": [],
   "metadata": {
    "collapsed": false,
    "pycharm": {
     "name": "#%%\n"
    }
   }
  },
  {
   "cell_type": "code",
   "execution_count": null,
   "outputs": [],
   "source": [],
   "metadata": {
    "collapsed": false,
    "pycharm": {
     "name": "#%%\n"
    }
   }
  }
 ],
 "metadata": {
  "kernelspec": {
   "display_name": "Python 3",
   "language": "python",
   "name": "python3"
  },
  "language_info": {
   "codemirror_mode": {
    "name": "ipython",
    "version": 2
   },
   "file_extension": ".py",
   "mimetype": "text/x-python",
   "name": "python",
   "nbconvert_exporter": "python",
   "pygments_lexer": "ipython2",
   "version": "2.7.6"
  }
 },
 "nbformat": 4,
 "nbformat_minor": 0
}
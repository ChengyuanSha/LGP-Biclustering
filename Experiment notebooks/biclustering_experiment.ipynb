{
 "cells": [
  {
   "cell_type": "code",
   "execution_count": 6,
   "outputs": [],
   "source": [
    "import matplotlib.pyplot as plt\n",
    "import numpy as np\n",
    "import pandas as pd\n",
    "from sklearn.metrics import classification_report\n",
    "from linear_genetic_programming.lgp_classifier import LGPClassifier\n",
    "from sklearn.model_selection import train_test_split, cross_val_score\n",
    "from sklearn.model_selection import cross_validate\n",
    "from sklearn.metrics import accuracy_score\n",
    "from sklearn.preprocessing import MinMaxScaler\n",
    "from sklearn.metrics import f1_score\n",
    "from sklearn import metrics\n",
    "from sklearn.model_selection import cross_val_score\n",
    "import seaborn as sns\n",
    "%matplotlib inline"
   ],
   "metadata": {
    "collapsed": false,
    "pycharm": {
     "name": "#%%\n"
    }
   }
  },
  {
   "cell_type": "code",
   "execution_count": 7,
   "outputs": [],
   "source": [
    "sns.set()"
   ],
   "metadata": {
    "collapsed": false,
    "pycharm": {
     "name": "#%%\n"
    }
   }
  },
  {
   "cell_type": "code",
   "execution_count": 8,
   "outputs": [],
   "source": [
    "from linear_genetic_programming.lgp_classifier import LGPClassifier\n",
    "from sklearn.metrics import accuracy_score\n",
    "from sklearn.metrics import jaccard_score\n",
    "import pandas as pd\n",
    "import re\n",
    "import matplotlib\n",
    "import matplotlib.pyplot as plt\n",
    "import seaborn as sns\n",
    "import copy\n",
    "import numpy as np\n",
    "import itertools\n",
    "from scipy.sparse import csr_matrix\n",
    "from sklearn.preprocessing import MinMaxScaler\n",
    "from collections import Counter\n",
    "from matplotlib.pyplot import figure"
   ],
   "metadata": {
    "collapsed": false,
    "pycharm": {
     "name": "#%%\n"
    }
   }
  },
  {
   "cell_type": "code",
   "execution_count": 9,
   "outputs": [],
   "source": [
    "# import warnings\n",
    "# warnings.filterwarnings('ignore')\n",
    "# %matplotlib widget\n",
    "# %matplotlib notebook\n",
    "%matplotlib inline\n",
    "sns.set()\n",
    "matplotlib.rcParams['pdf.fonttype'] = 42\n",
    "matplotlib.rcParams['ps.fonttype'] = 42\n"
   ],
   "metadata": {
    "collapsed": false,
    "pycharm": {
     "name": "#%%\n"
    }
   }
  },
  {
   "cell_type": "code",
   "execution_count": 10,
   "outputs": [],
   "source": [
    "# Dr. Steffany data New Preprocessing\n",
    "# 1: control, 0: case\n",
    "# path2pickle = '../dataset/lgp702SteffanyNew.pkl'\n",
    "# df = pd.read_csv('../dataset/Discovery_Cohort2020_08_25_forTing_imputed_fifth_min.csv')\n",
    "path2pickle = '../dataset/DLB_sub_lgp.pkl'\n",
    "df = pd.read_csv('../dataset/sub_DLB_metabolomics.csv')\n",
    "names = df.columns[5:]\n",
    "y = df['Diagnosis'].to_numpy()\n",
    "y = np.where(y == 'DLB', 0, y)\n",
    "y = np.where(y == 'CTRL', 1, y)\n",
    "y = y.tolist()\n",
    "X = df.iloc[:, 5:].to_numpy()\n",
    "scaler=MinMaxScaler((-1,1))\n",
    "X = scaler.fit_transform(X)"
   ],
   "metadata": {
    "collapsed": false,
    "pycharm": {
     "name": "#%%\n"
    }
   }
  },
  {
   "cell_type": "code",
   "execution_count": 11,
   "outputs": [],
   "source": [
    "# preprocess data\n",
    "df_disease = df[df['Diagnosis'] == 'DLB']\n",
    "df_ctrl = df[df['Diagnosis'] == 'CTRL']\n",
    "\n",
    "y_disease = df_disease['Diagnosis'].to_numpy()\n",
    "y_disease = np.where(y_disease == 'DLB', 0, y_disease)\n",
    "y_disease = np.where(y_disease == 'CTRL', 1, y_disease)\n",
    "# y_disease = y_disease.tolist()\n",
    "\n",
    "y_ctrl = df_ctrl['Diagnosis'].to_numpy()\n",
    "y_ctrl = np.where(y_ctrl == 'DLB', 0, y_ctrl)\n",
    "y_ctrl = np.where(y_ctrl == 'CTRL', 1, y_ctrl)\n",
    "y_ctrl = y_ctrl.tolist()\n",
    "\n",
    "X_disease = df_disease.iloc[:, 5:].to_numpy()\n",
    "X_ctrl = df_ctrl.iloc[:, 5:].to_numpy()\n",
    "scaler = MinMaxScaler((-1, 1))\n",
    "X_disease = scaler.fit_transform(X_disease)\n",
    "X_ctrl = scaler.fit_transform(X_ctrl)"
   ],
   "metadata": {
    "collapsed": false,
    "pycharm": {
     "name": "#%%\n"
    }
   }
  },
  {
   "cell_type": "code",
   "execution_count": 12,
   "outputs": [],
   "source": [
    "# # normalize df\n",
    "# df[df.columns[5:]] = scaler.fit_transform(df[df.columns[5:]])"
   ],
   "metadata": {
    "collapsed": false,
    "pycharm": {
     "name": "#%%\n"
    }
   }
  },
  {
   "cell_type": "code",
   "execution_count": 13,
   "outputs": [],
   "source": [
    "# df['Diagnosis'] = df['Diagnosis'].replace(['DLB'], 0)\n",
    "# df['Diagnosis'] = df['Diagnosis'].replace(['CTRL'], 1)"
   ],
   "metadata": {
    "collapsed": false,
    "pycharm": {
     "name": "#%%\n"
    }
   }
  },
  {
   "cell_type": "code",
   "execution_count": 14,
   "outputs": [],
   "source": [
    "def load_model():\n",
    "\tlgp_models = LGPClassifier.load_model(path2pickle)\n",
    "\tmodel_list_raw = [i for i in lgp_models]\n",
    "\treturn model_list_raw\n",
    "model_list_raw = load_model()\n"
   ],
   "metadata": {
    "collapsed": false,
    "pycharm": {
     "name": "#%%\n"
    }
   }
  },
  {
   "cell_type": "code",
   "execution_count": 15,
   "outputs": [],
   "source": [
    "# only counting disease samples\n",
    "only_disease = False"
   ],
   "metadata": {
    "collapsed": false,
    "pycharm": {
     "name": "#%%\n"
    }
   }
  },
  {
   "cell_type": "code",
   "execution_count": 16,
   "outputs": [
    {
     "data": {
      "text/plain": "array([1, 1, 1, 1, 1, 1, 1, 1, 1, 1, 1, 0, 0, 1, 1, 1, 0, 1, 0, 0, 1, 1,\n       1, 1, 1, 1, 1, 1, 1, 1, 0, 1, 0, 0, 1, 1, 1, 0, 1, 1, 1, 1, 1, 0,\n       1, 1, 0, 1, 1, 1, 0, 1, 0, 1, 1, 1, 1, 1, 1, 1, 0, 1, 0, 1, 1, 1,\n       1, 1, 1, 1, 1, 1, 1, 1, 1, 1, 1, 1, 0, 1, 0, 0, 0, 0, 0, 0, 1, 0,\n       0, 0, 1, 1, 1, 0, 0, 0, 1, 0, 0, 0, 1, 0, 1, 0, 1, 0, 0, 0, 0, 0,\n       1, 0, 0, 1, 1, 1, 1, 0, 1, 0, 0, 0, 0, 1], dtype=int64)"
     },
     "execution_count": 16,
     "metadata": {},
     "output_type": "execute_result"
    }
   ],
   "source": [
    "model_list_raw[80].predict(X)\n"
   ],
   "metadata": {
    "collapsed": false,
    "pycharm": {
     "name": "#%%\n"
    }
   }
  },
  {
   "cell_type": "code",
   "execution_count": 17,
   "outputs": [],
   "source": [
    "from clustering_program_utils import convert_program_str_repr\n",
    "# preprocessing raw list\n",
    "accuracy = []\n",
    "raw_model_list = []\n",
    "sample_list = [] # record overlapping samples\n",
    "for m in model_list_raw:\n",
    "\ty_pred = m.predict(X)\n",
    "\tscore = accuracy_score(y, y_pred)\n",
    "\tif m.testingAccuracy > 0.75: #only filter\n",
    "\t\traw_model_list.append(m)\n",
    "\t\taccuracy.append(score)\n",
    "\t\tif only_disease:\n",
    "\t\t\ttemp_y = np.array(y)\n",
    "\t\t\tonly_index = np.argwhere(temp_y==0).flatten()\n",
    "\t\t\ttemp_y = temp_y[only_index]\n",
    "\t\t\ttemp_y_pred = y_pred[only_index]\n",
    "\t\t\tsample_list.append(np.argwhere(temp_y==temp_y_pred).flatten())\n",
    "\t\telse:\n",
    "\t\t\tsample_list.append(np.argwhere(y==y_pred).flatten())"
   ],
   "metadata": {
    "collapsed": false,
    "pycharm": {
     "name": "#%%\n"
    }
   }
  },
  {
   "cell_type": "markdown",
   "source": [
    "Biclustering experiment"
   ],
   "metadata": {
    "collapsed": false,
    "pycharm": {
     "name": "#%% md\n"
    }
   }
  },
  {
   "cell_type": "code",
   "execution_count": 18,
   "outputs": [
    {
     "data": {
      "text/plain": "SpectralBiclustering(method='log', n_clusters=2, random_state=0)"
     },
     "execution_count": 18,
     "metadata": {},
     "output_type": "execute_result"
    }
   ],
   "source": [
    "from sklearn.cluster import SpectralBiclustering\n",
    "biclustering_matrix = np.zeros( (len(raw_model_list), X_disease.shape[0] ))\n",
    "\n",
    "for row, program in enumerate(raw_model_list):\n",
    "\t\tbiclustering_matrix[row, :] = program.predict_proba(X_disease)[:,1]\n",
    "\n",
    "model = SpectralBiclustering(n_clusters=2, method='log', random_state=0)\n",
    "model.fit(biclustering_matrix)"
   ],
   "metadata": {
    "collapsed": false,
    "pycharm": {
     "name": "#%%\n"
    }
   }
  },
  {
   "cell_type": "code",
   "execution_count": 19,
   "outputs": [],
   "source": [
    "# model.row_labels_"
   ],
   "metadata": {
    "collapsed": false,
    "pycharm": {
     "name": "#%%\n"
    }
   }
  },
  {
   "cell_type": "code",
   "execution_count": 20,
   "outputs": [
    {
     "data": {
      "text/plain": "{0: 26, 1: 23}"
     },
     "execution_count": 20,
     "metadata": {},
     "output_type": "execute_result"
    }
   ],
   "source": [
    "unique, counts = np.unique(model.column_labels_, return_counts=True)\n",
    "dict(zip(unique, counts))\n"
   ],
   "metadata": {
    "collapsed": false,
    "pycharm": {
     "name": "#%%\n"
    }
   }
  },
  {
   "cell_type": "code",
   "execution_count": 21,
   "outputs": [],
   "source": [
    "# filter using clustering\n",
    "model_list = [i for c, i in enumerate(raw_model_list) if model.row_labels_[c] == 0]"
   ],
   "metadata": {
    "collapsed": false,
    "pycharm": {
     "name": "#%%\n"
    }
   }
  },
  {
   "cell_type": "code",
   "execution_count": 22,
   "outputs": [],
   "source": [
    "accuracy = [i for c, i in enumerate(accuracy) if model.row_labels_[c] == 0]\n"
   ],
   "metadata": {
    "collapsed": false,
    "pycharm": {
     "name": "#%%\n"
    }
   }
  },
  {
   "cell_type": "code",
   "execution_count": 23,
   "outputs": [
    {
     "data": {
      "text/plain": "282"
     },
     "execution_count": 23,
     "metadata": {},
     "output_type": "execute_result"
    }
   ],
   "source": [
    "len(model_list)"
   ],
   "metadata": {
    "collapsed": false,
    "pycharm": {
     "name": "#%%\n"
    }
   }
  },
  {
   "cell_type": "code",
   "execution_count": 23,
   "outputs": [],
   "source": [],
   "metadata": {
    "collapsed": false,
    "pycharm": {
     "name": "#%%\n"
    }
   }
  },
  {
   "cell_type": "code",
   "execution_count": 24,
   "outputs": [],
   "source": [
    "models_unfiltered = raw_model_list"
   ],
   "metadata": {
    "collapsed": false,
    "pycharm": {
     "name": "#%%\n"
    }
   }
  },
  {
   "cell_type": "code",
   "execution_count": 25,
   "outputs": [],
   "source": [
    "import copy\n",
    "import re\n",
    "def calculate_featureList_and_calcvariableList(raw_model_list):\n",
    "    numOfVariable = raw_model_list[0].numberOfVariable\n",
    "    feature_list = []\n",
    "    program_eff_f_list = []\n",
    "    for i in raw_model_list:\n",
    "        feature_list.append(re.findall(r'r\\d+', i.bestEffProgStr_))\n",
    "        program_eff_f_list.append(i.bestEffProgStr_.count('\\n'))\n",
    "    calculation_variable_list = copy.deepcopy(feature_list)  # raw list for later usage\n",
    "    # processing raw list to get calculation_variable_list\n",
    "    i = 0\n",
    "    while i < len(calculation_variable_list):\n",
    "        j = 0\n",
    "        program = calculation_variable_list[i]\n",
    "        while j < len(program):\n",
    "            if int(calculation_variable_list[i][j][1:]) > numOfVariable:  # remove calculation variable\n",
    "                del calculation_variable_list[i][j]\n",
    "            else:\n",
    "                calculation_variable_list[i][j] = int(calculation_variable_list[i][j][1:])\n",
    "                j += 1  # ONLY INCREMENT HERE\n",
    "        i += 1\n",
    "    i = 0\n",
    "    # processing raw list to get feature_list\n",
    "    while i < len(feature_list):\n",
    "        j = 0\n",
    "        program = feature_list[i]\n",
    "        while j < len(program):\n",
    "            if int(feature_list[i][j][1:]) < numOfVariable:  # remove calculation variable\n",
    "                del feature_list[i][j]\n",
    "            else:\n",
    "                feature_list[i][j] = int(feature_list[i][j][1:]) - numOfVariable\n",
    "                j += 1  # ONLY INCREMENT HERE\n",
    "        i += 1\n",
    "\t        # self.calculation_variable_list = calculation_variable_list\n",
    "    return np.array(feature_list)\n",
    "\n",
    "# num_to_name = {'AD':0, 'Normal':1}\n",
    "# y_test = [num_to_name[i] for i in y_test]"
   ],
   "metadata": {
    "collapsed": false,
    "pycharm": {
     "name": "#%%\n"
    }
   }
  },
  {
   "cell_type": "code",
   "execution_count": 26,
   "outputs": [
    {
     "name": "stderr",
     "output_type": "stream",
     "text": [
      "C:\\Users\\10455\\anaconda3\\envs\\lgp\\lib\\site-packages\\ipykernel_launcher.py:36: VisibleDeprecationWarning: Creating an ndarray from ragged nested sequences (which is a list-or-tuple of lists-or-tuples-or ndarrays with different lengths or shapes) is deprecated. If you meant to do this, you must specify 'dtype=object' when creating the ndarray\n"
     ]
    }
   ],
   "source": [
    "feature_list = calculate_featureList_and_calcvariableList(models_unfiltered)\n",
    "accuracy_list =  [ m.testingAccuracy for m in models_unfiltered]"
   ],
   "metadata": {
    "collapsed": false,
    "pycharm": {
     "name": "#%%\n"
    }
   }
  },
  {
   "cell_type": "code",
   "execution_count": 27,
   "outputs": [],
   "source": [
    "eff_f_list = [len(i) for i in feature_list]\n",
    "eff_f_list = np.array(eff_f_list)"
   ],
   "metadata": {
    "collapsed": false,
    "pycharm": {
     "name": "#%%\n"
    }
   }
  },
  {
   "cell_type": "code",
   "execution_count": 28,
   "outputs": [],
   "source": [
    "index = np.where(eff_f_list==0)\n",
    "eff_f_list = np.delete(eff_f_list, index)\n",
    "accuracy_list = np.delete(accuracy_list, index)"
   ],
   "metadata": {
    "collapsed": false,
    "pycharm": {
     "name": "#%%\n"
    }
   }
  },
  {
   "cell_type": "code",
   "execution_count": 29,
   "outputs": [
    {
     "data": {
      "text/plain": "<Figure size 360x360 with 1 Axes>",
      "image/png": "[encoded data removed]"
     },
     "metadata": {},
     "output_type": "display_data"
    }
   ],
   "source": [
    "ax = sns.displot(eff_f_list , kde=True)\n",
    "ax.set(xlabel='Number of effective features', ylabel='Number of models')\n",
    "ax.set(xlim=(1,10),ylim=(1,120))\n",
    "plt.gcf().subplots_adjust(bottom=0.1)\n",
    "plt.savefig('len.tif', dpi=300)\n",
    "plt.show()"
   ],
   "metadata": {
    "collapsed": false,
    "pycharm": {
     "name": "#%%\n"
    }
   }
  },
  {
   "cell_type": "code",
   "execution_count": 30,
   "outputs": [
    {
     "data": {
      "text/plain": "365"
     },
     "execution_count": 30,
     "metadata": {},
     "output_type": "execute_result"
    }
   ],
   "source": [
    "# len(models_filtered)\n",
    "len(models_unfiltered)"
   ],
   "metadata": {
    "collapsed": false,
    "pycharm": {
     "name": "#%%\n"
    }
   }
  },
  {
   "cell_type": "code",
   "execution_count": 31,
   "outputs": [],
   "source": [
    "# F1 score\n",
    "f1_scores = [m.validationScores['f1'] for m in models_unfiltered]"
   ],
   "metadata": {
    "collapsed": false,
    "pycharm": {
     "name": "#%%\n"
    }
   }
  },
  {
   "cell_type": "code",
   "execution_count": 32,
   "outputs": [
    {
     "data": {
      "text/plain": "<Figure size 360x360 with 1 Axes>",
      "image/png": "[encoded data removed]"
     },
     "metadata": {},
     "output_type": "display_data"
    }
   ],
   "source": [
    "ax = sns.displot(f1_scores, kde=True)\n",
    "ax.set(xlabel='F1', ylabel='Number of models')\n",
    "ax.set(xlim=(0,1),ylim=(0,80))\n",
    "plt.gcf().subplots_adjust(bottom=0.1)\n",
    "plt.savefig('f1.tif', dpi=300)\n",
    "\n",
    "plt.show()"
   ],
   "metadata": {
    "collapsed": false,
    "pycharm": {
     "name": "#%%\n"
    }
   }
  },
  {
   "cell_type": "code",
   "execution_count": 32,
   "outputs": [],
   "source": [],
   "metadata": {
    "collapsed": false,
    "pycharm": {
     "name": "#%%\n"
    }
   }
  },
  {
   "cell_type": "code",
   "execution_count": 33,
   "outputs": [],
   "source": [
    "auc = [ m.validationScores['auc'] for m in models_unfiltered]"
   ],
   "metadata": {
    "collapsed": false,
    "pycharm": {
     "name": "#%%\n"
    }
   }
  },
  {
   "cell_type": "code",
   "execution_count": 33,
   "outputs": [],
   "source": [],
   "metadata": {
    "collapsed": false,
    "pycharm": {
     "name": "#%%\n"
    }
   }
  },
  {
   "cell_type": "code",
   "execution_count": 34,
   "outputs": [
    {
     "data": {
      "text/plain": "<Figure size 360x360 with 1 Axes>",
      "image/png": "[encoded data removed]"
     },
     "metadata": {},
     "output_type": "display_data"
    }
   ],
   "source": [
    "ax = sns.displot(auc, kde=True)\n",
    "ax.set(xlabel='AUC', ylabel='Number of models')\n",
    "ax.set(xlim=(0,1),ylim=(0,80))\n",
    "plt.gcf().subplots_adjust(bottom=0.1)\n",
    "plt.savefig('auc.tif', dpi=300)\n",
    "plt.show()"
   ],
   "metadata": {
    "collapsed": false,
    "pycharm": {
     "name": "#%%\n"
    }
   }
  },
  {
   "cell_type": "code",
   "execution_count": 34,
   "outputs": [],
   "source": [],
   "metadata": {
    "collapsed": false,
    "pycharm": {
     "name": "#%%\n"
    }
   }
  },
  {
   "cell_type": "code",
   "execution_count": 35,
   "outputs": [
    {
     "data": {
      "text/plain": "<Figure size 360x360 with 1 Axes>",
      "image/png": "[encoded data removed]"
     },
     "metadata": {},
     "output_type": "display_data"
    }
   ],
   "source": [
    "ax = sns.displot(accuracy_list, kde=True)\n",
    "ax.set(xlabel='Testing set accuracy', ylabel='Number of models')\n",
    "ax.set(xlim=(0.75,1),ylim=(0,150))\n",
    "plt.gcf().subplots_adjust(bottom=0.1)\n",
    "plt.savefig('testing_acc.tif', dpi=300)\n",
    "plt.show()\n"
   ],
   "metadata": {
    "collapsed": false,
    "pycharm": {
     "name": "#%%\n"
    }
   }
  },
  {
   "cell_type": "code",
   "execution_count": 36,
   "outputs": [],
   "source": [
    "# from sklearn.metrics import plot_roc_curve\n",
    "# import matplotlib.pyplot as plt\n",
    "#\n",
    "# # ax = plt.gca()\n",
    "# # for i in models_unfiltered:\n",
    "# # \tplot_roc_curve(i, X_test, y_test, ax=ax)\n",
    "# plot_roc_curve(models_unfiltered[0], X_test, y_test)\n",
    "\n",
    "# num_to_name = {'AD':1, 'Normal':0}\n",
    "# y_test = [num_to_name[i] for i in y_test]"
   ],
   "metadata": {
    "collapsed": false,
    "pycharm": {
     "name": "#%%\n"
    }
   }
  },
  {
   "cell_type": "code",
   "execution_count": 37,
   "outputs": [],
   "source": [
    "\n",
    "# draw complete"
   ],
   "metadata": {
    "collapsed": false,
    "pycharm": {
     "name": "#%%\n"
    }
   }
  },
  {
   "cell_type": "code",
   "execution_count": 37,
   "outputs": [],
   "source": [],
   "metadata": {
    "collapsed": false,
    "pycharm": {
     "name": "#%%\n"
    }
   }
  },
  {
   "cell_type": "code",
   "execution_count": 38,
   "outputs": [
    {
     "name": "stderr",
     "output_type": "stream",
     "text": [
      "C:\\Users\\10455\\anaconda3\\envs\\lgp\\lib\\site-packages\\seaborn\\_decorators.py:43: FutureWarning: Pass the following variables as keyword args: x, y. From version 0.12, the only valid positional argument will be `data`, and passing other arguments without an explicit keyword will result in an error or misinterpretation.\n",
      "  FutureWarning\n"
     ]
    },
    {
     "data": {
      "text/plain": "<Figure size 432x288 with 1 Axes>",
      "image/png": "[encoded data removed]"
     },
     "metadata": {},
     "output_type": "display_data"
    }
   ],
   "source": [
    "# ax = sns.stripplot(eff_f_list, accuracy_list, size=2)\n",
    "ax =  sns.violinplot(eff_f_list, accuracy_list, cut=0)\n",
    "ax.set(xlabel='Number of features', ylabel='Testing accuracy')\n",
    "ax.set(xlim=(-1,10),ylim=(0.75,1))\n",
    "plt.gcf().subplots_adjust(bottom=0.15)\n",
    "plt.savefig('f_vs_acc.tif', dpi=300)\n",
    "plt.show()"
   ],
   "metadata": {
    "collapsed": false,
    "pycharm": {
     "name": "#%%\n"
    }
   }
  },
  {
   "cell_type": "code",
   "execution_count": 39,
   "outputs": [
    {
     "name": "stdout",
     "output_type": "stream",
     "text": [
      "Pearsons correlation: 0.187, p value: 0.000\n"
     ]
    }
   ],
   "source": [
    "from scipy.stats import pearsonr\n",
    "corr, pvalue = pearsonr(eff_f_list, accuracy_list)\n",
    "print('Pearsons correlation: %.3f, p value: %.3f' % (corr, pvalue))"
   ],
   "metadata": {
    "collapsed": false,
    "pycharm": {
     "name": "#%%\n"
    }
   }
  },
  {
   "cell_type": "code",
   "execution_count": 40,
   "outputs": [],
   "source": [
    "from collections import Counter\n",
    "from functools import reduce\n",
    "from operator import add\n",
    "def get_occurrence_from_feature_list_given_length(given_length, feature_list):\n",
    "    if given_length == 'All':\n",
    "        element = feature_list.tolist()\n",
    "        rank = Counter(reduce(add, element)) # flatten list and count\n",
    "    else:\n",
    "        element = np.asarray([i for i in feature_list if len(i) == given_length])\n",
    "        rank = Counter(element.flatten())\n",
    "    if len(element) == 0:\n",
    "        raise ValueError(\"There is no program in this length\")\n",
    "    features, num_of_occurrences = zip(*rank.most_common())\n",
    "    return features, num_of_occurrences, len(element)"
   ],
   "metadata": {
    "collapsed": false,
    "pycharm": {
     "name": "#%%\n"
    }
   }
  },
  {
   "cell_type": "code",
   "execution_count": 41,
   "outputs": [],
   "source": [
    "features, num_of_occurrences, cur_feature_num = get_occurrence_from_feature_list_given_length('All', feature_list)"
   ],
   "metadata": {
    "collapsed": false,
    "pycharm": {
     "name": "#%%\n"
    }
   }
  },
  {
   "cell_type": "code",
   "execution_count": 42,
   "outputs": [],
   "source": [
    "features = [names[i] for i in features]"
   ],
   "metadata": {
    "collapsed": false,
    "pycharm": {
     "name": "#%%\n"
    }
   }
  },
  {
   "cell_type": "code",
   "execution_count": 43,
   "outputs": [],
   "source": [
    "df_f_rank = pd.DataFrame({'features': features, 'num_of_occurrences': num_of_occurrences})\n"
   ],
   "metadata": {
    "collapsed": false,
    "pycharm": {
     "name": "#%%\n"
    }
   }
  },
  {
   "cell_type": "code",
   "execution_count": 44,
   "outputs": [
    {
     "data": {
      "text/plain": "<Figure size 432x288 with 1 Axes>",
      "image/png": "[encoded data removed]"
     },
     "metadata": {},
     "output_type": "display_data"
    }
   ],
   "source": [
    "feature_importance = sns.barplot(x='num_of_occurrences', y='features',\n",
    "                                 data=df_f_rank.iloc[:20, :], palette=\"Blues_d\")\n",
    "plt.tight_layout()\n",
    "feature_importance.set(xlim=(0,70))\n",
    "feature_importance.set(xlabel='Number of occurrences', ylabel='Features')\n",
    "plt.savefig('f_rank.tif', dpi=300)\n",
    "plt.show()"
   ],
   "metadata": {
    "collapsed": false,
    "pycharm": {
     "name": "#%%\n"
    }
   }
  },
  {
   "cell_type": "code",
   "execution_count": 46,
   "outputs": [],
   "source": [
    "# difference coefficient\n",
    "from differential_coeffcient import get_diff_coefficient\n",
    "diff_coe, corr_df_control, corr_df0_case = get_diff_coefficient()\n",
    "\n",
    "\n"
   ],
   "metadata": {
    "collapsed": false,
    "pycharm": {
     "name": "#%%\n"
    }
   }
  },
  {
   "cell_type": "markdown",
   "source": [
    "clustering experiment"
   ],
   "metadata": {
    "collapsed": false,
    "pycharm": {
     "name": "#%% md\n"
    }
   }
  },
  {
   "cell_type": "code",
   "execution_count": 47,
   "outputs": [],
   "source": [
    "feature_list = np.asarray(feature_list)"
   ],
   "metadata": {
    "collapsed": false,
    "pycharm": {
     "name": "#%%\n"
    }
   }
  },
  {
   "cell_type": "code",
   "execution_count": 48,
   "outputs": [],
   "source": [
    "feature_dimension = raw_model_list[0].numberOfInput\n",
    "y = np.array(y)"
   ],
   "metadata": {
    "collapsed": false,
    "pycharm": {
     "name": "#%%\n"
    }
   }
  },
  {
   "cell_type": "code",
   "execution_count": 49,
   "outputs": [
    {
     "data": {
      "text/plain": "50"
     },
     "execution_count": 49,
     "metadata": {},
     "output_type": "execute_result"
    }
   ],
   "source": [
    "feature_dimension\n",
    "# matrix_f = np.zeros((len(raw_model_list), len(raw_model_list)), dtype=float)"
   ],
   "metadata": {
    "collapsed": false,
    "pycharm": {
     "name": "#%%\n"
    }
   }
  },
  {
   "cell_type": "code",
   "execution_count": 50,
   "outputs": [],
   "source": [
    "feature_X = []\n",
    "for row in range(len(raw_model_list)):\n",
    "\t\tbinary_eff_f1 = np.zeros(feature_dimension, dtype=int)\n",
    "\t\tbinary_eff_f1[feature_list[row]] = 1\n",
    "\t\tfeature_X.append(binary_eff_f1)"
   ],
   "metadata": {
    "collapsed": false,
    "pycharm": {
     "name": "#%%\n"
    }
   }
  },
  {
   "cell_type": "code",
   "execution_count": 51,
   "outputs": [
    {
     "name": "stdout",
     "output_type": "stream",
     "text": [
      "[0.13084646790780474, 0.14323895886807078, 0.1429895727121948, 0.15932261465000802, 0.15220395654556707, 0.13430134406518227, 0.14901718217505563, 0.17537415323328098, 0.16068838103852567, 0.15620325841808835, 0.1787429706271538]\n"
     ]
    }
   ],
   "source": [
    "distance_metric = 'hamming'\n",
    "from sklearn import metrics\n",
    "from sklearn_extra.cluster import KMedoids\n",
    "score = []\n",
    "cluster_list = [i for i in range(4, 15)]\n",
    "\n",
    "for i in cluster_list:\n",
    "\t# --------- KMedoids ------\n",
    "\tkmedoids = KMedoids(n_clusters=i, random_state=0, init='k-medoids++',\n",
    "\t                    metric=distance_metric, method='pam').fit(feature_X)\n",
    "\tcluster_labels = kmedoids.labels_\n",
    "\t# -------------------------\n",
    "\n",
    "\tscore.append(metrics.silhouette_score(feature_X, cluster_labels, metric=distance_metric))\n",
    "print(score)\n",
    "cluster_num = cluster_list[np.argmin(score)]"
   ],
   "metadata": {
    "collapsed": false,
    "pycharm": {
     "name": "#%%\n"
    }
   }
  },
  {
   "cell_type": "code",
   "execution_count": 52,
   "outputs": [],
   "source": [
    "kmedoids = KMedoids(n_clusters=cluster_num, random_state=0, init='k-medoids++',\n",
    "                    metric=distance_metric, method='pam').fit(feature_X)\n",
    "cluster_labels = kmedoids.labels_\n",
    "\n",
    "#feature_X matrix_f\n",
    "\n",
    "from sklearn.manifold import TSNE\n",
    "# tsne = TSNE(n_components=2, metric = \"precomputed\").fit_transform(matrix_f)\n",
    "tsne = TSNE(n_components=2, metric = distance_metric, perplexity=30, learning_rate=50).fit_transform(feature_X)"
   ],
   "metadata": {
    "collapsed": false,
    "pycharm": {
     "name": "#%%\n"
    }
   }
  },
  {
   "cell_type": "code",
   "execution_count": 53,
   "outputs": [],
   "source": [
    "dftsne = pd.DataFrame(tsne)\n",
    "dftsne['cluster'] = cluster_labels\n",
    "dftsne.columns = ['x1','x2','cluster']"
   ],
   "metadata": {
    "collapsed": false,
    "pycharm": {
     "name": "#%%\n"
    }
   }
  },
  {
   "cell_type": "code",
   "execution_count": 54,
   "outputs": [],
   "source": [
    "from sklearn import decomposition\n",
    "pca = decomposition.PCA(n_components=3)\n",
    "pca.fit(feature_X)\n",
    "pca_X = pca.transform(feature_X)\n"
   ],
   "metadata": {
    "collapsed": false,
    "pycharm": {
     "name": "#%%\n"
    }
   }
  },
  {
   "cell_type": "code",
   "execution_count": 55,
   "outputs": [
    {
     "data": {
      "text/plain": "<AxesSubplot:>"
     },
     "execution_count": 55,
     "metadata": {},
     "output_type": "execute_result"
    },
    {
     "data": {
      "text/plain": "<Figure size 800x480 with 1 Axes>",
      "image/png": "[encoded data removed]"
     },
     "metadata": {},
     "output_type": "display_data"
    }
   ],
   "source": [
    "figure(num=None, figsize=(10, 6), dpi=80, facecolor='w', edgecolor='k')\n",
    "# sns.scatterplot(x= pca_X[:, 0], y = pca_X[:, 1], hue = cluster_labels)\n",
    "sns.scatterplot(x= pca_X[:, 0], y = pca_X[:, 1], hue = cluster_labels)"
   ],
   "metadata": {
    "collapsed": false,
    "pycharm": {
     "name": "#%%\n"
    }
   }
  },
  {
   "cell_type": "code",
   "execution_count": 56,
   "outputs": [
    {
     "data": {
      "text/plain": "365"
     },
     "execution_count": 56,
     "metadata": {},
     "output_type": "execute_result"
    }
   ],
   "source": [
    "len(model.row_labels_)"
   ],
   "metadata": {
    "collapsed": false,
    "pycharm": {
     "name": "#%%\n"
    }
   }
  },
  {
   "cell_type": "markdown",
   "source": [
    "command run tensorboard\n",
    "tensorboard --logdir log"
   ],
   "metadata": {
    "collapsed": false,
    "pycharm": {
     "name": "#%% md\n"
    }
   }
  },
  {
   "cell_type": "code",
   "execution_count": 57,
   "outputs": [
    {
     "data": {
      "text/plain": "<Figure size 800x480 with 1 Axes>",
      "image/png": "[encoded data removed]"
     },
     "metadata": {},
     "output_type": "display_data"
    }
   ],
   "source": [
    "figure(num=None, figsize=(10, 6), dpi=80, facecolor='w', edgecolor='k')\n",
    "ax = sns.scatterplot(data=dftsne,x='x1',y='x2',hue='cluster',legend=\"full\",alpha=1, palette=\"deep\", style=model.row_labels_)\n",
    "ax.set_xlabel('tSNE1', fontsize=12)\n",
    "ax.set_ylabel('tSNE2', fontsize=12)\n",
    "plt.savefig('clustering_using_features.jpeg', dpi=300, format='JPEG')"
   ],
   "metadata": {
    "collapsed": false,
    "pycharm": {
     "name": "#%%\n"
    }
   }
  },
  {
   "cell_type": "code",
   "execution_count": 57,
   "outputs": [],
   "source": [],
   "metadata": {
    "collapsed": false,
    "pycharm": {
     "name": "#%%\n"
    }
   }
  },
  {
   "cell_type": "markdown",
   "source": [
    "Network & differential coefficient"
   ],
   "metadata": {
    "collapsed": false,
    "pycharm": {
     "name": "#%% md\n"
    }
   }
  },
  {
   "cell_type": "code",
   "execution_count": 58,
   "outputs": [],
   "source": [
    "diff_coe_matrix = diff_coe.pivot_table(columns='Source', index='Target', values='Weight')\n",
    "corr_df_control_matrix = corr_df_control.pivot_table(columns='Source', index='Target', values='Weight')\n",
    "corr_df0_case_matrix = corr_df0_case.pivot_table(columns='Source', index='Target', values='Weight')"
   ],
   "metadata": {
    "collapsed": false,
    "pycharm": {
     "name": "#%%\n"
    }
   }
  },
  {
   "cell_type": "code",
   "execution_count": 59,
   "outputs": [],
   "source": [
    "diff_coe_matrix = diff_coe_matrix.round(2)\n",
    "corr_df_control_matrix = corr_df_control_matrix.round(2)\n",
    "corr_df0_case_matrix = corr_df0_case_matrix.round(2)"
   ],
   "metadata": {
    "collapsed": false,
    "pycharm": {
     "name": "#%%\n"
    }
   }
  },
  {
   "cell_type": "code",
   "execution_count": 60,
   "outputs": [],
   "source": [
    "from _processing_funcs import ResultProcessing\n",
    "from clustering_program_utils import create_network, create_diff_coe_network\n",
    "\n",
    "result_data = ResultProcessing()\n",
    "result_data.feature_list = feature_list\n",
    "\n",
    "# co-occurring\n",
    "cluster_html = create_network(result_data, top_percentage=10, edge_threshold=5, names=names)\n",
    "\n"
   ],
   "metadata": {
    "collapsed": false,
    "pycharm": {
     "name": "#%%\n"
    }
   }
  },
  {
   "cell_type": "code",
   "execution_count": 67,
   "outputs": [
    {
     "name": "stdout",
     "output_type": "stream",
     "text": [
      "Dash app running on http://127.0.0.1:8055/\n"
     ]
    }
   ],
   "source": [
    "from jupyter_dash import JupyterDash\n",
    "import dash_core_components as dcc\n",
    "import dash_html_components as html\n",
    "from dash.dependencies import Input, Output\n",
    "from _processing_funcs import ResultProcessing\n",
    "import dash_cytoscape as cyto\n",
    "\n",
    "cyto.load_extra_layouts()\n",
    "app = JupyterDash(__name__)\n",
    "\n",
    "app.layout = cluster_html\n",
    "\n",
    "# Run app and display result inline in the notebook\n",
    "app.run_server(mode='external', port=8055)"
   ],
   "metadata": {
    "collapsed": false,
    "pycharm": {
     "name": "#%%\n"
    }
   }
  },
  {
   "cell_type": "markdown",
   "source": [
    "age"
   ],
   "metadata": {
    "collapsed": false,
    "pycharm": {
     "name": "#%% md\n"
    }
   }
  },
  {
   "cell_type": "code",
   "execution_count": 68,
   "outputs": [],
   "source": [
    "cluster_num = 0"
   ],
   "metadata": {
    "collapsed": false,
    "pycharm": {
     "name": "#%%\n"
    }
   }
  },
  {
   "cell_type": "code",
   "execution_count": 69,
   "outputs": [
    {
     "name": "stderr",
     "output_type": "stream",
     "text": [
      "C:\\Users\\10455\\anaconda3\\envs\\lgp\\lib\\site-packages\\ipykernel_launcher.py:2: UserWarning: Boolean Series key will be reindexed to match DataFrame index.\n",
      "  \n"
     ]
    }
   ],
   "source": [
    "df_age = df.sort_values('Age')\n",
    "df_age = df_age[df['Diagnosis'] == 'DLB']"
   ],
   "metadata": {
    "collapsed": false,
    "pycharm": {
     "name": "#%%\n"
    }
   }
  },
  {
   "cell_type": "code",
   "execution_count": 70,
   "outputs": [
    {
     "data": {
      "text/plain": "55"
     },
     "execution_count": 70,
     "metadata": {},
     "output_type": "execute_result"
    }
   ],
   "source": [
    "df_age.iloc[0][4]\n"
   ],
   "metadata": {
    "collapsed": false,
    "pycharm": {
     "name": "#%%\n"
    }
   }
  },
  {
   "cell_type": "code",
   "execution_count": 71,
   "outputs": [
    {
     "data": {
      "text/plain": "49"
     },
     "execution_count": 71,
     "metadata": {},
     "output_type": "execute_result"
    }
   ],
   "source": [
    "len(model.column_labels_)"
   ],
   "metadata": {
    "collapsed": false,
    "pycharm": {
     "name": "#%%\n"
    }
   }
  },
  {
   "cell_type": "code",
   "execution_count": 72,
   "outputs": [],
   "source": [
    "ages = []\n",
    "for c, i in enumerate(model.column_labels_):\n",
    "    if i == cluster_num:\n",
    "        ages.append(df_age.iloc[c][4])"
   ],
   "metadata": {
    "collapsed": false,
    "pycharm": {
     "name": "#%%\n"
    }
   }
  },
  {
   "cell_type": "code",
   "execution_count": 73,
   "outputs": [
    {
     "data": {
      "text/plain": "<Figure size 360x360 with 1 Axes>",
      "image/png": "[encoded data removed]"
     },
     "metadata": {},
     "output_type": "display_data"
    }
   ],
   "source": [
    "ax = sns.displot(ages)\n",
    "ax.set_xlabels('Ages')\n",
    "ax.set(xlim=(50,90), ylim=(0, 10))\n",
    "# ax.set_ylim(0, 1)\n",
    "# ax.set_xlabel('age', fontsize=12)\n",
    "# ax.set_ylabel('correctly classified percentage', fontsize=12)\n",
    "plt.savefig('age.jpeg', dpi=300, format='JPEG')"
   ],
   "metadata": {
    "collapsed": false,
    "pycharm": {
     "name": "#%%\n"
    }
   }
  },
  {
   "cell_type": "code",
   "execution_count": 74,
   "outputs": [],
   "source": [
    "gender = []\n",
    "for c, i in enumerate(model.column_labels_):\n",
    "    if i == cluster_num:\n",
    "        gender.append(df_age.iloc[c][3])"
   ],
   "metadata": {
    "collapsed": false,
    "pycharm": {
     "name": "#%%\n"
    }
   }
  },
  {
   "cell_type": "code",
   "execution_count": 74,
   "outputs": [],
   "source": [],
   "metadata": {
    "collapsed": false,
    "pycharm": {
     "name": "#%%\n"
    }
   }
  },
  {
   "cell_type": "code",
   "execution_count": 75,
   "outputs": [
    {
     "data": {
      "text/plain": "<Figure size 360x360 with 1 Axes>",
      "image/png": "[encoded data removed]"
     },
     "metadata": {},
     "output_type": "display_data"
    }
   ],
   "source": [
    "ax = sns.displot(sorted(gender))\n",
    "ax.set_xlabels('Gender')\n",
    "ax.set(ylim=(0, 40))\n",
    "plt.savefig('gender.jpeg', dpi=300, format='JPEG')"
   ],
   "metadata": {
    "collapsed": false,
    "pycharm": {
     "name": "#%%\n"
    }
   }
  },
  {
   "cell_type": "code",
   "execution_count": 76,
   "outputs": [
    {
     "data": {
      "text/plain": "{'F': 10, 'M': 39}"
     },
     "execution_count": 76,
     "metadata": {},
     "output_type": "execute_result"
    }
   ],
   "source": [
    "unique, counts = np.unique(df_age.iloc[:, 3], return_counts=True)\n",
    "ori_gender_dic = dict(zip(unique, counts))\n",
    "ori_gender_dic"
   ],
   "metadata": {
    "collapsed": false,
    "pycharm": {
     "name": "#%%\n"
    }
   }
  },
  {
   "cell_type": "code",
   "execution_count": 77,
   "outputs": [],
   "source": [
    "temp_a = ['F' for i in range(ori_gender_dic['F'])]\n",
    "temp_b = ['M' for i in range(ori_gender_dic['M'])]\n",
    "ori_gender = temp_a + temp_b"
   ],
   "metadata": {
    "collapsed": false,
    "pycharm": {
     "name": "#%%\n"
    }
   }
  },
  {
   "cell_type": "code",
   "execution_count": 78,
   "outputs": [
    {
     "data": {
      "text/plain": "<Figure size 360x360 with 1 Axes>",
      "image/png": "[encoded data removed]"
     },
     "metadata": {},
     "output_type": "display_data"
    }
   ],
   "source": [
    "ax = sns.displot(ori_gender)\n",
    "ax.set_titles('Original Gender Distribution')\n",
    "ax.set_xlabels('Gender')\n",
    "ax.set(ylim=(0, 40))\n",
    "plt.savefig('original_gender_dis.jpeg', dpi=300, format='JPEG')"
   ],
   "metadata": {
    "collapsed": false,
    "pycharm": {
     "name": "#%%\n"
    }
   }
  },
  {
   "cell_type": "code",
   "execution_count": 84,
   "outputs": [],
   "source": [
    "mmse_df = pd.read_csv('../dataset/MMSE.csv')\n",
    "mmse_df = mmse_df[df['Diagnosis'] == 'DLB']"
   ],
   "metadata": {
    "collapsed": false,
    "pycharm": {
     "name": "#%%\n"
    }
   }
  },
  {
   "cell_type": "code",
   "execution_count": 85,
   "outputs": [],
   "source": [
    "mmse_list = []\n",
    "for c, i in enumerate(model.column_labels_):\n",
    "    if i == cluster_num:\n",
    "        mmse_list.append(mmse_df.iloc[c][3])\n"
   ],
   "metadata": {
    "collapsed": false,
    "pycharm": {
     "name": "#%%\n"
    }
   }
  },
  {
   "cell_type": "code",
   "execution_count": 86,
   "outputs": [
    {
     "data": {
      "text/plain": "<Figure size 360x360 with 1 Axes>",
      "image/png": "[encoded data removed]"
     },
     "metadata": {},
     "output_type": "display_data"
    }
   ],
   "source": [
    "ax = sns.displot(mmse_list)\n",
    "ax.set_xlabels(\"MMSE\")\n",
    "ax.set(xlim=(0, 30), ylim=(0,15))\n",
    "plt.savefig('MMSE_dis.jpeg', dpi=300, format='JPEG')"
   ],
   "metadata": {
    "collapsed": false,
    "pycharm": {
     "name": "#%%\n"
    }
   }
  },
  {
   "cell_type": "code",
   "execution_count": 87,
   "outputs": [],
   "source": [
    "top20 = df_f_rank.iloc[:20, :]"
   ],
   "metadata": {
    "collapsed": false,
    "pycharm": {
     "name": "#%%\n"
    }
   }
  },
  {
   "cell_type": "code",
   "execution_count": 88,
   "outputs": [
    {
     "data": {
      "text/plain": "     Galα1-4Galβ1-4Glcβ-Cer(d18:1/24:1)  GlcCer(d18:1/18:1)  \\\n0                           1268.301631          249.745005   \n1                            752.115272          174.240089   \n2                           1032.756489          162.835933   \n3                            309.542304          311.633118   \n4                            507.362278           85.531818   \n..                                  ...                 ...   \n119                         1296.964402          372.779665   \n120                         1074.413292           40.549851   \n121                          653.995659           45.362047   \n122                          596.735829           94.663376   \n123                          896.622752          114.054250   \n\n     HexCer(d18:1/24:1)  Cer(d18:1/23:0)  Cer(d18:1/22:1)  Cer(d18:1/24:1)  \\\n0          12020.105450     16427.850060       892.800958      27777.49884   \n1           8495.405127      6460.400303       690.870918      16255.31613   \n2          17131.213230     16339.624620       849.465393      32767.91920   \n3          24975.110370      9924.337652      1163.956181      17098.58609   \n4          12271.043260      7617.034346       755.416595      20904.59870   \n..                  ...              ...              ...              ...   \n119        14649.590590      5359.214333       469.785627      13357.84447   \n120         9945.468657      4751.807371       259.094434      12320.91253   \n121         7482.021211      7772.862645       384.513496      17301.17736   \n122        10967.962110      3974.790164       240.279961      10297.99045   \n123        18605.110830     13406.307250      1143.918752      32699.08962   \n\n     Cer(d18:1/25:1)  Cer(d18:1/26:1)    DG(37:1)  PC(18:2/20:4)  \\\n0        1713.143985       935.037444  613.198279   19437.500000   \n1         711.850355       363.725064  573.915893    6428.016042   \n2        1826.243963       939.747142  401.709077    9762.113569   \n3         637.691656       361.236185  795.026386    3296.539536   \n4        1194.198887       698.256911  613.426971   13845.663670   \n..               ...              ...         ...            ...   \n119       539.252015       438.116596  260.032365   11064.629850   \n120       463.584263       266.525078  117.594133    7036.845023   \n121       918.582726       461.790150  181.441391    9181.887067   \n122       485.538727       386.856723  285.215828    6258.422267   \n123      1475.688880       740.537276  391.975105   17767.060460   \n\n     PC(20:0/20:4)  PC(20:0/20:5)  SM(d17:1/24:1)  SM(d16:1/24:0)  \\\n0       437.625000    9325.000000     4817.500000     4369.802157   \n1       267.989181    2437.313910      941.126837     1481.435758   \n2       333.955505    3885.368908     3398.306397     3951.004125   \n3       155.165899    1187.069366      443.536196     3755.437898   \n4       884.589900    9065.288207     4951.478054     1590.850665   \n..             ...            ...             ...             ...   \n119     625.102066    3836.509795     2325.726164     3096.770912   \n120     301.810010    1810.654220     2131.363937     2020.227467   \n121     679.008126    2654.510074     2558.202749     2704.896068   \n122     346.993857    1720.780561     5462.061503     1654.575810   \n123    1340.668172    8134.499653     6316.410702     3102.471127   \n\n     SM(d18:1/23:0)  SM(d18:2/23:0)  SM(d19:1/24:1)  GPC000027_Unidentified  \\\n0      25600.000000    17300.000000     4121.250000               90.425000   \n1       3880.638709     3505.087935      423.677214               25.882513   \n2      11033.781420     9778.511958     1612.646328               32.175675   \n3       5545.148957     2142.322888      391.503228               15.588072   \n4      11515.309360    12197.620310     2711.398731               52.128556   \n..              ...             ...             ...                     ...   \n119     9228.713707     4633.406656     1925.834080               57.194220   \n120     7394.071582     8279.410631     1041.229375               14.204281   \n121     6136.551607     4996.222354     1408.171062               84.653898   \n122    11518.310700     8139.995656     2366.618916               40.109110   \n123    15118.554550    14980.611540     2336.754691               72.613204   \n\n     GPC000455_Unidentified  Unidentified_SPH000009  \n0               2343.750000               90.193262  \n1                281.817876               27.650233  \n2                717.972265               59.452934  \n3                249.812836               65.060721  \n4                930.987044               39.554979  \n..                      ...                     ...  \n119              686.032096               52.077935  \n120              320.006718               39.017096  \n121              496.625821               65.782996  \n122              702.294667               30.488285  \n123             2560.222377               70.016084  \n\n[124 rows x 20 columns]",
      "text/html": "<div>\n<style scoped>\n    .dataframe tbody tr th:only-of-type {\n        vertical-align: middle;\n    }\n\n    .dataframe tbody tr th {\n        vertical-align: top;\n    }\n\n    .dataframe thead th {\n        text-align: right;\n    }\n</style>\n<table border=\"1\" class=\"dataframe\">\n  <thead>\n    <tr style=\"text-align: right;\">\n      <th></th>\n      <th>Galα1-4Galβ1-4Glcβ-Cer(d18:1/24:1)</th>\n      <th>GlcCer(d18:1/18:1)</th>\n      <th>HexCer(d18:1/24:1)</th>\n      <th>Cer(d18:1/23:0)</th>\n      <th>Cer(d18:1/22:1)</th>\n      <th>Cer(d18:1/24:1)</th>\n      <th>Cer(d18:1/25:1)</th>\n      <th>Cer(d18:1/26:1)</th>\n      <th>DG(37:1)</th>\n      <th>PC(18:2/20:4)</th>\n      <th>PC(20:0/20:4)</th>\n      <th>PC(20:0/20:5)</th>\n      <th>SM(d17:1/24:1)</th>\n      <th>SM(d16:1/24:0)</th>\n      <th>SM(d18:1/23:0)</th>\n      <th>SM(d18:2/23:0)</th>\n      <th>SM(d19:1/24:1)</th>\n      <th>GPC000027_Unidentified</th>\n      <th>GPC000455_Unidentified</th>\n      <th>Unidentified_SPH000009</th>\n    </tr>\n  </thead>\n  <tbody>\n    <tr>\n      <th>0</th>\n      <td>1268.301631</td>\n      <td>249.745005</td>\n      <td>12020.105450</td>\n      <td>16427.850060</td>\n      <td>892.800958</td>\n      <td>27777.49884</td>\n      <td>1713.143985</td>\n      <td>935.037444</td>\n      <td>613.198279</td>\n      <td>19437.500000</td>\n      <td>437.625000</td>\n      <td>9325.000000</td>\n      <td>4817.500000</td>\n      <td>4369.802157</td>\n      <td>25600.000000</td>\n      <td>17300.000000</td>\n      <td>4121.250000</td>\n      <td>90.425000</td>\n      <td>2343.750000</td>\n      <td>90.193262</td>\n    </tr>\n    <tr>\n      <th>1</th>\n      <td>752.115272</td>\n      <td>174.240089</td>\n      <td>8495.405127</td>\n      <td>6460.400303</td>\n      <td>690.870918</td>\n      <td>16255.31613</td>\n      <td>711.850355</td>\n      <td>363.725064</td>\n      <td>573.915893</td>\n      <td>6428.016042</td>\n      <td>267.989181</td>\n      <td>2437.313910</td>\n      <td>941.126837</td>\n      <td>1481.435758</td>\n      <td>3880.638709</td>\n      <td>3505.087935</td>\n      <td>423.677214</td>\n      <td>25.882513</td>\n      <td>281.817876</td>\n      <td>27.650233</td>\n    </tr>\n    <tr>\n      <th>2</th>\n      <td>1032.756489</td>\n      <td>162.835933</td>\n      <td>17131.213230</td>\n      <td>16339.624620</td>\n      <td>849.465393</td>\n      <td>32767.91920</td>\n      <td>1826.243963</td>\n      <td>939.747142</td>\n      <td>401.709077</td>\n      <td>9762.113569</td>\n      <td>333.955505</td>\n      <td>3885.368908</td>\n      <td>3398.306397</td>\n      <td>3951.004125</td>\n      <td>11033.781420</td>\n      <td>9778.511958</td>\n      <td>1612.646328</td>\n      <td>32.175675</td>\n      <td>717.972265</td>\n      <td>59.452934</td>\n    </tr>\n    <tr>\n      <th>3</th>\n      <td>309.542304</td>\n      <td>311.633118</td>\n      <td>24975.110370</td>\n      <td>9924.337652</td>\n      <td>1163.956181</td>\n      <td>17098.58609</td>\n      <td>637.691656</td>\n      <td>361.236185</td>\n      <td>795.026386</td>\n      <td>3296.539536</td>\n      <td>155.165899</td>\n      <td>1187.069366</td>\n      <td>443.536196</td>\n      <td>3755.437898</td>\n      <td>5545.148957</td>\n      <td>2142.322888</td>\n      <td>391.503228</td>\n      <td>15.588072</td>\n      <td>249.812836</td>\n      <td>65.060721</td>\n    </tr>\n    <tr>\n      <th>4</th>\n      <td>507.362278</td>\n      <td>85.531818</td>\n      <td>12271.043260</td>\n      <td>7617.034346</td>\n      <td>755.416595</td>\n      <td>20904.59870</td>\n      <td>1194.198887</td>\n      <td>698.256911</td>\n      <td>613.426971</td>\n      <td>13845.663670</td>\n      <td>884.589900</td>\n      <td>9065.288207</td>\n      <td>4951.478054</td>\n      <td>1590.850665</td>\n      <td>11515.309360</td>\n      <td>12197.620310</td>\n      <td>2711.398731</td>\n      <td>52.128556</td>\n      <td>930.987044</td>\n      <td>39.554979</td>\n    </tr>\n    <tr>\n      <th>...</th>\n      <td>...</td>\n      <td>...</td>\n      <td>...</td>\n      <td>...</td>\n      <td>...</td>\n      <td>...</td>\n      <td>...</td>\n      <td>...</td>\n      <td>...</td>\n      <td>...</td>\n      <td>...</td>\n      <td>...</td>\n      <td>...</td>\n      <td>...</td>\n      <td>...</td>\n      <td>...</td>\n      <td>...</td>\n      <td>...</td>\n      <td>...</td>\n      <td>...</td>\n    </tr>\n    <tr>\n      <th>119</th>\n      <td>1296.964402</td>\n      <td>372.779665</td>\n      <td>14649.590590</td>\n      <td>5359.214333</td>\n      <td>469.785627</td>\n      <td>13357.84447</td>\n      <td>539.252015</td>\n      <td>438.116596</td>\n      <td>260.032365</td>\n      <td>11064.629850</td>\n      <td>625.102066</td>\n      <td>3836.509795</td>\n      <td>2325.726164</td>\n      <td>3096.770912</td>\n      <td>9228.713707</td>\n      <td>4633.406656</td>\n      <td>1925.834080</td>\n      <td>57.194220</td>\n      <td>686.032096</td>\n      <td>52.077935</td>\n    </tr>\n    <tr>\n      <th>120</th>\n      <td>1074.413292</td>\n      <td>40.549851</td>\n      <td>9945.468657</td>\n      <td>4751.807371</td>\n      <td>259.094434</td>\n      <td>12320.91253</td>\n      <td>463.584263</td>\n      <td>266.525078</td>\n      <td>117.594133</td>\n      <td>7036.845023</td>\n      <td>301.810010</td>\n      <td>1810.654220</td>\n      <td>2131.363937</td>\n      <td>2020.227467</td>\n      <td>7394.071582</td>\n      <td>8279.410631</td>\n      <td>1041.229375</td>\n      <td>14.204281</td>\n      <td>320.006718</td>\n      <td>39.017096</td>\n    </tr>\n    <tr>\n      <th>121</th>\n      <td>653.995659</td>\n      <td>45.362047</td>\n      <td>7482.021211</td>\n      <td>7772.862645</td>\n      <td>384.513496</td>\n      <td>17301.17736</td>\n      <td>918.582726</td>\n      <td>461.790150</td>\n      <td>181.441391</td>\n      <td>9181.887067</td>\n      <td>679.008126</td>\n      <td>2654.510074</td>\n      <td>2558.202749</td>\n      <td>2704.896068</td>\n      <td>6136.551607</td>\n      <td>4996.222354</td>\n      <td>1408.171062</td>\n      <td>84.653898</td>\n      <td>496.625821</td>\n      <td>65.782996</td>\n    </tr>\n    <tr>\n      <th>122</th>\n      <td>596.735829</td>\n      <td>94.663376</td>\n      <td>10967.962110</td>\n      <td>3974.790164</td>\n      <td>240.279961</td>\n      <td>10297.99045</td>\n      <td>485.538727</td>\n      <td>386.856723</td>\n      <td>285.215828</td>\n      <td>6258.422267</td>\n      <td>346.993857</td>\n      <td>1720.780561</td>\n      <td>5462.061503</td>\n      <td>1654.575810</td>\n      <td>11518.310700</td>\n      <td>8139.995656</td>\n      <td>2366.618916</td>\n      <td>40.109110</td>\n      <td>702.294667</td>\n      <td>30.488285</td>\n    </tr>\n    <tr>\n      <th>123</th>\n      <td>896.622752</td>\n      <td>114.054250</td>\n      <td>18605.110830</td>\n      <td>13406.307250</td>\n      <td>1143.918752</td>\n      <td>32699.08962</td>\n      <td>1475.688880</td>\n      <td>740.537276</td>\n      <td>391.975105</td>\n      <td>17767.060460</td>\n      <td>1340.668172</td>\n      <td>8134.499653</td>\n      <td>6316.410702</td>\n      <td>3102.471127</td>\n      <td>15118.554550</td>\n      <td>14980.611540</td>\n      <td>2336.754691</td>\n      <td>72.613204</td>\n      <td>2560.222377</td>\n      <td>70.016084</td>\n    </tr>\n  </tbody>\n</table>\n<p>124 rows × 20 columns</p>\n</div>"
     },
     "execution_count": 88,
     "metadata": {},
     "output_type": "execute_result"
    }
   ],
   "source": [
    "df.iloc[:, df.columns.isin(top20['features'].values )]"
   ],
   "metadata": {
    "collapsed": false,
    "pycharm": {
     "name": "#%%\n"
    }
   }
  },
  {
   "cell_type": "code",
   "execution_count": 89,
   "outputs": [
    {
     "data": {
      "text/plain": "(-0.11893804065545131, 0.4156629751713328)"
     },
     "execution_count": 89,
     "metadata": {},
     "output_type": "execute_result"
    }
   ],
   "source": [
    "from scipy.stats import pearsonr\n",
    "pearsonr(mmse_df[\"MMSE\"], mmse_df[\"Age\"])\n"
   ],
   "metadata": {
    "collapsed": false,
    "pycharm": {
     "name": "#%%\n"
    }
   }
  },
  {
   "cell_type": "code",
   "execution_count": 90,
   "outputs": [
    {
     "data": {
      "text/plain": "     Galα1-4Galβ1-4Glcβ-Cer(d18:1/24:1)  GlcCer(d18:1/18:1)  \\\n0                           1268.301631          249.745005   \n1                            752.115272          174.240089   \n2                           1032.756489          162.835933   \n3                            309.542304          311.633118   \n4                            507.362278           85.531818   \n..                                  ...                 ...   \n119                         1296.964402          372.779665   \n120                         1074.413292           40.549851   \n121                          653.995659           45.362047   \n122                          596.735829           94.663376   \n123                          896.622752          114.054250   \n\n     HexCer(d18:1/24:1)  Cer(d18:1/23:0)  Cer(d18:1/22:1)  Cer(d18:1/24:1)  \\\n0          12020.105450     16427.850060       892.800958      27777.49884   \n1           8495.405127      6460.400303       690.870918      16255.31613   \n2          17131.213230     16339.624620       849.465393      32767.91920   \n3          24975.110370      9924.337652      1163.956181      17098.58609   \n4          12271.043260      7617.034346       755.416595      20904.59870   \n..                  ...              ...              ...              ...   \n119        14649.590590      5359.214333       469.785627      13357.84447   \n120         9945.468657      4751.807371       259.094434      12320.91253   \n121         7482.021211      7772.862645       384.513496      17301.17736   \n122        10967.962110      3974.790164       240.279961      10297.99045   \n123        18605.110830     13406.307250      1143.918752      32699.08962   \n\n     Cer(d18:1/25:1)  Cer(d18:1/26:1)    DG(37:1)  PC(18:2/20:4)  \\\n0        1713.143985       935.037444  613.198279   19437.500000   \n1         711.850355       363.725064  573.915893    6428.016042   \n2        1826.243963       939.747142  401.709077    9762.113569   \n3         637.691656       361.236185  795.026386    3296.539536   \n4        1194.198887       698.256911  613.426971   13845.663670   \n..               ...              ...         ...            ...   \n119       539.252015       438.116596  260.032365   11064.629850   \n120       463.584263       266.525078  117.594133    7036.845023   \n121       918.582726       461.790150  181.441391    9181.887067   \n122       485.538727       386.856723  285.215828    6258.422267   \n123      1475.688880       740.537276  391.975105   17767.060460   \n\n     PC(20:0/20:4)  PC(20:0/20:5)  SM(d17:1/24:1)  SM(d16:1/24:0)  \\\n0       437.625000    9325.000000     4817.500000     4369.802157   \n1       267.989181    2437.313910      941.126837     1481.435758   \n2       333.955505    3885.368908     3398.306397     3951.004125   \n3       155.165899    1187.069366      443.536196     3755.437898   \n4       884.589900    9065.288207     4951.478054     1590.850665   \n..             ...            ...             ...             ...   \n119     625.102066    3836.509795     2325.726164     3096.770912   \n120     301.810010    1810.654220     2131.363937     2020.227467   \n121     679.008126    2654.510074     2558.202749     2704.896068   \n122     346.993857    1720.780561     5462.061503     1654.575810   \n123    1340.668172    8134.499653     6316.410702     3102.471127   \n\n     SM(d18:1/23:0)  SM(d18:2/23:0)  SM(d19:1/24:1)  GPC000027_Unidentified  \\\n0      25600.000000    17300.000000     4121.250000               90.425000   \n1       3880.638709     3505.087935      423.677214               25.882513   \n2      11033.781420     9778.511958     1612.646328               32.175675   \n3       5545.148957     2142.322888      391.503228               15.588072   \n4      11515.309360    12197.620310     2711.398731               52.128556   \n..              ...             ...             ...                     ...   \n119     9228.713707     4633.406656     1925.834080               57.194220   \n120     7394.071582     8279.410631     1041.229375               14.204281   \n121     6136.551607     4996.222354     1408.171062               84.653898   \n122    11518.310700     8139.995656     2366.618916               40.109110   \n123    15118.554550    14980.611540     2336.754691               72.613204   \n\n     GPC000455_Unidentified  Unidentified_SPH000009  \n0               2343.750000               90.193262  \n1                281.817876               27.650233  \n2                717.972265               59.452934  \n3                249.812836               65.060721  \n4                930.987044               39.554979  \n..                      ...                     ...  \n119              686.032096               52.077935  \n120              320.006718               39.017096  \n121              496.625821               65.782996  \n122              702.294667               30.488285  \n123             2560.222377               70.016084  \n\n[124 rows x 20 columns]",
      "text/html": "<div>\n<style scoped>\n    .dataframe tbody tr th:only-of-type {\n        vertical-align: middle;\n    }\n\n    .dataframe tbody tr th {\n        vertical-align: top;\n    }\n\n    .dataframe thead th {\n        text-align: right;\n    }\n</style>\n<table border=\"1\" class=\"dataframe\">\n  <thead>\n    <tr style=\"text-align: right;\">\n      <th></th>\n      <th>Galα1-4Galβ1-4Glcβ-Cer(d18:1/24:1)</th>\n      <th>GlcCer(d18:1/18:1)</th>\n      <th>HexCer(d18:1/24:1)</th>\n      <th>Cer(d18:1/23:0)</th>\n      <th>Cer(d18:1/22:1)</th>\n      <th>Cer(d18:1/24:1)</th>\n      <th>Cer(d18:1/25:1)</th>\n      <th>Cer(d18:1/26:1)</th>\n      <th>DG(37:1)</th>\n      <th>PC(18:2/20:4)</th>\n      <th>PC(20:0/20:4)</th>\n      <th>PC(20:0/20:5)</th>\n      <th>SM(d17:1/24:1)</th>\n      <th>SM(d16:1/24:0)</th>\n      <th>SM(d18:1/23:0)</th>\n      <th>SM(d18:2/23:0)</th>\n      <th>SM(d19:1/24:1)</th>\n      <th>GPC000027_Unidentified</th>\n      <th>GPC000455_Unidentified</th>\n      <th>Unidentified_SPH000009</th>\n    </tr>\n  </thead>\n  <tbody>\n    <tr>\n      <th>0</th>\n      <td>1268.301631</td>\n      <td>249.745005</td>\n      <td>12020.105450</td>\n      <td>16427.850060</td>\n      <td>892.800958</td>\n      <td>27777.49884</td>\n      <td>1713.143985</td>\n      <td>935.037444</td>\n      <td>613.198279</td>\n      <td>19437.500000</td>\n      <td>437.625000</td>\n      <td>9325.000000</td>\n      <td>4817.500000</td>\n      <td>4369.802157</td>\n      <td>25600.000000</td>\n      <td>17300.000000</td>\n      <td>4121.250000</td>\n      <td>90.425000</td>\n      <td>2343.750000</td>\n      <td>90.193262</td>\n    </tr>\n    <tr>\n      <th>1</th>\n      <td>752.115272</td>\n      <td>174.240089</td>\n      <td>8495.405127</td>\n      <td>6460.400303</td>\n      <td>690.870918</td>\n      <td>16255.31613</td>\n      <td>711.850355</td>\n      <td>363.725064</td>\n      <td>573.915893</td>\n      <td>6428.016042</td>\n      <td>267.989181</td>\n      <td>2437.313910</td>\n      <td>941.126837</td>\n      <td>1481.435758</td>\n      <td>3880.638709</td>\n      <td>3505.087935</td>\n      <td>423.677214</td>\n      <td>25.882513</td>\n      <td>281.817876</td>\n      <td>27.650233</td>\n    </tr>\n    <tr>\n      <th>2</th>\n      <td>1032.756489</td>\n      <td>162.835933</td>\n      <td>17131.213230</td>\n      <td>16339.624620</td>\n      <td>849.465393</td>\n      <td>32767.91920</td>\n      <td>1826.243963</td>\n      <td>939.747142</td>\n      <td>401.709077</td>\n      <td>9762.113569</td>\n      <td>333.955505</td>\n      <td>3885.368908</td>\n      <td>3398.306397</td>\n      <td>3951.004125</td>\n      <td>11033.781420</td>\n      <td>9778.511958</td>\n      <td>1612.646328</td>\n      <td>32.175675</td>\n      <td>717.972265</td>\n      <td>59.452934</td>\n    </tr>\n    <tr>\n      <th>3</th>\n      <td>309.542304</td>\n      <td>311.633118</td>\n      <td>24975.110370</td>\n      <td>9924.337652</td>\n      <td>1163.956181</td>\n      <td>17098.58609</td>\n      <td>637.691656</td>\n      <td>361.236185</td>\n      <td>795.026386</td>\n      <td>3296.539536</td>\n      <td>155.165899</td>\n      <td>1187.069366</td>\n      <td>443.536196</td>\n      <td>3755.437898</td>\n      <td>5545.148957</td>\n      <td>2142.322888</td>\n      <td>391.503228</td>\n      <td>15.588072</td>\n      <td>249.812836</td>\n      <td>65.060721</td>\n    </tr>\n    <tr>\n      <th>4</th>\n      <td>507.362278</td>\n      <td>85.531818</td>\n      <td>12271.043260</td>\n      <td>7617.034346</td>\n      <td>755.416595</td>\n      <td>20904.59870</td>\n      <td>1194.198887</td>\n      <td>698.256911</td>\n      <td>613.426971</td>\n      <td>13845.663670</td>\n      <td>884.589900</td>\n      <td>9065.288207</td>\n      <td>4951.478054</td>\n      <td>1590.850665</td>\n      <td>11515.309360</td>\n      <td>12197.620310</td>\n      <td>2711.398731</td>\n      <td>52.128556</td>\n      <td>930.987044</td>\n      <td>39.554979</td>\n    </tr>\n    <tr>\n      <th>...</th>\n      <td>...</td>\n      <td>...</td>\n      <td>...</td>\n      <td>...</td>\n      <td>...</td>\n      <td>...</td>\n      <td>...</td>\n      <td>...</td>\n      <td>...</td>\n      <td>...</td>\n      <td>...</td>\n      <td>...</td>\n      <td>...</td>\n      <td>...</td>\n      <td>...</td>\n      <td>...</td>\n      <td>...</td>\n      <td>...</td>\n      <td>...</td>\n      <td>...</td>\n    </tr>\n    <tr>\n      <th>119</th>\n      <td>1296.964402</td>\n      <td>372.779665</td>\n      <td>14649.590590</td>\n      <td>5359.214333</td>\n      <td>469.785627</td>\n      <td>13357.84447</td>\n      <td>539.252015</td>\n      <td>438.116596</td>\n      <td>260.032365</td>\n      <td>11064.629850</td>\n      <td>625.102066</td>\n      <td>3836.509795</td>\n      <td>2325.726164</td>\n      <td>3096.770912</td>\n      <td>9228.713707</td>\n      <td>4633.406656</td>\n      <td>1925.834080</td>\n      <td>57.194220</td>\n      <td>686.032096</td>\n      <td>52.077935</td>\n    </tr>\n    <tr>\n      <th>120</th>\n      <td>1074.413292</td>\n      <td>40.549851</td>\n      <td>9945.468657</td>\n      <td>4751.807371</td>\n      <td>259.094434</td>\n      <td>12320.91253</td>\n      <td>463.584263</td>\n      <td>266.525078</td>\n      <td>117.594133</td>\n      <td>7036.845023</td>\n      <td>301.810010</td>\n      <td>1810.654220</td>\n      <td>2131.363937</td>\n      <td>2020.227467</td>\n      <td>7394.071582</td>\n      <td>8279.410631</td>\n      <td>1041.229375</td>\n      <td>14.204281</td>\n      <td>320.006718</td>\n      <td>39.017096</td>\n    </tr>\n    <tr>\n      <th>121</th>\n      <td>653.995659</td>\n      <td>45.362047</td>\n      <td>7482.021211</td>\n      <td>7772.862645</td>\n      <td>384.513496</td>\n      <td>17301.17736</td>\n      <td>918.582726</td>\n      <td>461.790150</td>\n      <td>181.441391</td>\n      <td>9181.887067</td>\n      <td>679.008126</td>\n      <td>2654.510074</td>\n      <td>2558.202749</td>\n      <td>2704.896068</td>\n      <td>6136.551607</td>\n      <td>4996.222354</td>\n      <td>1408.171062</td>\n      <td>84.653898</td>\n      <td>496.625821</td>\n      <td>65.782996</td>\n    </tr>\n    <tr>\n      <th>122</th>\n      <td>596.735829</td>\n      <td>94.663376</td>\n      <td>10967.962110</td>\n      <td>3974.790164</td>\n      <td>240.279961</td>\n      <td>10297.99045</td>\n      <td>485.538727</td>\n      <td>386.856723</td>\n      <td>285.215828</td>\n      <td>6258.422267</td>\n      <td>346.993857</td>\n      <td>1720.780561</td>\n      <td>5462.061503</td>\n      <td>1654.575810</td>\n      <td>11518.310700</td>\n      <td>8139.995656</td>\n      <td>2366.618916</td>\n      <td>40.109110</td>\n      <td>702.294667</td>\n      <td>30.488285</td>\n    </tr>\n    <tr>\n      <th>123</th>\n      <td>896.622752</td>\n      <td>114.054250</td>\n      <td>18605.110830</td>\n      <td>13406.307250</td>\n      <td>1143.918752</td>\n      <td>32699.08962</td>\n      <td>1475.688880</td>\n      <td>740.537276</td>\n      <td>391.975105</td>\n      <td>17767.060460</td>\n      <td>1340.668172</td>\n      <td>8134.499653</td>\n      <td>6316.410702</td>\n      <td>3102.471127</td>\n      <td>15118.554550</td>\n      <td>14980.611540</td>\n      <td>2336.754691</td>\n      <td>72.613204</td>\n      <td>2560.222377</td>\n      <td>70.016084</td>\n    </tr>\n  </tbody>\n</table>\n<p>124 rows × 20 columns</p>\n</div>"
     },
     "execution_count": 90,
     "metadata": {},
     "output_type": "execute_result"
    }
   ],
   "source": [
    "df.iloc[:, df.columns.isin(top20['features'].values )]"
   ],
   "metadata": {
    "collapsed": false,
    "pycharm": {
     "name": "#%%\n"
    }
   }
  },
  {
   "cell_type": "code",
   "execution_count": 91,
   "outputs": [],
   "source": [
    "mmse_df['Sex'] = mmse_df['Sex'].replace(to_replace='M', value=0)\n",
    "mmse_df['Sex'] = mmse_df['Sex'].replace(to_replace='F', value=1)\n",
    "import scipy.stats as stats\n",
    "fvalue, pvalue = stats.f_oneway(mmse_df[\"MMSE\"], mmse_df[\"Age\"], mmse_df['Sex'])\n"
   ],
   "metadata": {
    "collapsed": false,
    "pycharm": {
     "name": "#%%\n"
    }
   }
  },
  {
   "cell_type": "code",
   "execution_count": 92,
   "outputs": [
    {
     "data": {
      "text/plain": "2403.5462459307782"
     },
     "execution_count": 92,
     "metadata": {},
     "output_type": "execute_result"
    }
   ],
   "source": [
    "fvalue"
   ],
   "metadata": {
    "collapsed": false,
    "pycharm": {
     "name": "#%%\n"
    }
   }
  },
  {
   "cell_type": "code",
   "execution_count": 93,
   "outputs": [
    {
     "data": {
      "text/plain": "2.4189371607274625e-111"
     },
     "execution_count": 93,
     "metadata": {},
     "output_type": "execute_result"
    }
   ],
   "source": [
    "pvalue\n"
   ],
   "metadata": {
    "collapsed": false,
    "pycharm": {
     "name": "#%%\n"
    }
   }
  },
  {
   "cell_type": "code",
   "execution_count": 93,
   "outputs": [],
   "source": [],
   "metadata": {
    "collapsed": false,
    "pycharm": {
     "name": "#%%\n"
    }
   }
  },
  {
   "cell_type": "code",
   "execution_count": 94,
   "outputs": [
    {
     "data": {
      "text/plain": "<seaborn.axisgrid.FacetGrid at 0x15b63dde288>"
     },
     "execution_count": 94,
     "metadata": {},
     "output_type": "execute_result"
    },
    {
     "data": {
      "text/plain": "<Figure size 360x360 with 1 Axes>",
      "image/png": "[encoded data removed]"
     },
     "metadata": {},
     "output_type": "display_data"
    }
   ],
   "source": [
    "ax = sns.displot(sorted(gender))\n",
    "ax.set_xlabels('Gender')\n",
    "ax.set(ylim=(0, 40))"
   ],
   "metadata": {
    "collapsed": false,
    "pycharm": {
     "name": "#%%\n"
    }
   }
  },
  {
   "cell_type": "code",
   "execution_count": 95,
   "outputs": [
    {
     "data": {
      "text/plain": "{'F': 10, 'M': 39}"
     },
     "execution_count": 95,
     "metadata": {},
     "output_type": "execute_result"
    }
   ],
   "source": [
    "unique, counts = np.unique(df_age.iloc[:, 3], return_counts=True)\n",
    "ori_gender_dic = dict(zip(unique, counts))\n",
    "ori_gender_dic"
   ],
   "metadata": {
    "collapsed": false,
    "pycharm": {
     "name": "#%%\n"
    }
   }
  },
  {
   "cell_type": "code",
   "execution_count": 96,
   "outputs": [],
   "source": [
    "temp_a = ['F' for i in range(ori_gender_dic['F'])]\n",
    "temp_b = ['M' for i in range(ori_gender_dic['M'])]\n",
    "ori_gender = temp_a + temp_b"
   ],
   "metadata": {
    "collapsed": false,
    "pycharm": {
     "name": "#%%\n"
    }
   }
  },
  {
   "cell_type": "code",
   "execution_count": 97,
   "outputs": [
    {
     "data": {
      "text/plain": "<seaborn.axisgrid.FacetGrid at 0x15b5b9dbd88>"
     },
     "execution_count": 97,
     "metadata": {},
     "output_type": "execute_result"
    },
    {
     "data": {
      "text/plain": "<Figure size 360x360 with 1 Axes>",
      "image/png": "[encoded data removed]"
     },
     "metadata": {},
     "output_type": "display_data"
    }
   ],
   "source": [
    "ax = sns.displot(ori_gender)\n",
    "ax.set_titles('Original Gender Distribution')\n",
    "ax.set_xlabels('Gender')\n",
    "ax.set(ylim=(0, 40))"
   ],
   "metadata": {
    "collapsed": false,
    "pycharm": {
     "name": "#%%\n"
    }
   }
  },
  {
   "cell_type": "code",
   "execution_count": 98,
   "outputs": [],
   "source": [
    "mmse_df = pd.read_csv('../dataset/MMSE.csv')\n",
    "mmse_df = mmse_df[df['Diagnosis'] == 'DLB']"
   ],
   "metadata": {
    "collapsed": false,
    "pycharm": {
     "name": "#%%\n"
    }
   }
  },
  {
   "cell_type": "code",
   "execution_count": 99,
   "outputs": [],
   "source": [
    "mmse_list = []\n",
    "for c, i in enumerate(model.column_labels_):\n",
    "    if i == cluster_num:\n",
    "        mmse_list.append(mmse_df.iloc[c][3])\n"
   ],
   "metadata": {
    "collapsed": false,
    "pycharm": {
     "name": "#%%\n"
    }
   }
  },
  {
   "cell_type": "code",
   "execution_count": 100,
   "outputs": [
    {
     "data": {
      "text/plain": "<seaborn.axisgrid.FacetGrid at 0x15b63c016c8>"
     },
     "execution_count": 100,
     "metadata": {},
     "output_type": "execute_result"
    },
    {
     "data": {
      "text/plain": "<Figure size 360x360 with 1 Axes>",
      "image/png": "[encoded data removed]"
     },
     "metadata": {},
     "output_type": "display_data"
    }
   ],
   "source": [
    "ax = sns.displot(mmse_list)\n",
    "ax.set_xlabels(\"MMSE\")\n",
    "ax.set(xlim=(0, 30), ylim=(0,15))"
   ],
   "metadata": {
    "collapsed": false,
    "pycharm": {
     "name": "#%%\n"
    }
   }
  },
  {
   "cell_type": "code",
   "execution_count": 101,
   "outputs": [],
   "source": [
    "top20 = df_f_rank.iloc[:20, :]"
   ],
   "metadata": {
    "collapsed": false,
    "pycharm": {
     "name": "#%%\n"
    }
   }
  },
  {
   "cell_type": "code",
   "execution_count": 102,
   "outputs": [
    {
     "data": {
      "text/plain": "     Galα1-4Galβ1-4Glcβ-Cer(d18:1/24:1)  GlcCer(d18:1/18:1)  \\\n0                           1268.301631          249.745005   \n1                            752.115272          174.240089   \n2                           1032.756489          162.835933   \n3                            309.542304          311.633118   \n4                            507.362278           85.531818   \n..                                  ...                 ...   \n119                         1296.964402          372.779665   \n120                         1074.413292           40.549851   \n121                          653.995659           45.362047   \n122                          596.735829           94.663376   \n123                          896.622752          114.054250   \n\n     HexCer(d18:1/24:1)  Cer(d18:1/23:0)  Cer(d18:1/22:1)  Cer(d18:1/24:1)  \\\n0          12020.105450     16427.850060       892.800958      27777.49884   \n1           8495.405127      6460.400303       690.870918      16255.31613   \n2          17131.213230     16339.624620       849.465393      32767.91920   \n3          24975.110370      9924.337652      1163.956181      17098.58609   \n4          12271.043260      7617.034346       755.416595      20904.59870   \n..                  ...              ...              ...              ...   \n119        14649.590590      5359.214333       469.785627      13357.84447   \n120         9945.468657      4751.807371       259.094434      12320.91253   \n121         7482.021211      7772.862645       384.513496      17301.17736   \n122        10967.962110      3974.790164       240.279961      10297.99045   \n123        18605.110830     13406.307250      1143.918752      32699.08962   \n\n     Cer(d18:1/25:1)  Cer(d18:1/26:1)    DG(37:1)  PC(18:2/20:4)  \\\n0        1713.143985       935.037444  613.198279   19437.500000   \n1         711.850355       363.725064  573.915893    6428.016042   \n2        1826.243963       939.747142  401.709077    9762.113569   \n3         637.691656       361.236185  795.026386    3296.539536   \n4        1194.198887       698.256911  613.426971   13845.663670   \n..               ...              ...         ...            ...   \n119       539.252015       438.116596  260.032365   11064.629850   \n120       463.584263       266.525078  117.594133    7036.845023   \n121       918.582726       461.790150  181.441391    9181.887067   \n122       485.538727       386.856723  285.215828    6258.422267   \n123      1475.688880       740.537276  391.975105   17767.060460   \n\n     PC(20:0/20:4)  PC(20:0/20:5)  SM(d17:1/24:1)  SM(d16:1/24:0)  \\\n0       437.625000    9325.000000     4817.500000     4369.802157   \n1       267.989181    2437.313910      941.126837     1481.435758   \n2       333.955505    3885.368908     3398.306397     3951.004125   \n3       155.165899    1187.069366      443.536196     3755.437898   \n4       884.589900    9065.288207     4951.478054     1590.850665   \n..             ...            ...             ...             ...   \n119     625.102066    3836.509795     2325.726164     3096.770912   \n120     301.810010    1810.654220     2131.363937     2020.227467   \n121     679.008126    2654.510074     2558.202749     2704.896068   \n122     346.993857    1720.780561     5462.061503     1654.575810   \n123    1340.668172    8134.499653     6316.410702     3102.471127   \n\n     SM(d18:1/23:0)  SM(d18:2/23:0)  SM(d19:1/24:1)  GPC000027_Unidentified  \\\n0      25600.000000    17300.000000     4121.250000               90.425000   \n1       3880.638709     3505.087935      423.677214               25.882513   \n2      11033.781420     9778.511958     1612.646328               32.175675   \n3       5545.148957     2142.322888      391.503228               15.588072   \n4      11515.309360    12197.620310     2711.398731               52.128556   \n..              ...             ...             ...                     ...   \n119     9228.713707     4633.406656     1925.834080               57.194220   \n120     7394.071582     8279.410631     1041.229375               14.204281   \n121     6136.551607     4996.222354     1408.171062               84.653898   \n122    11518.310700     8139.995656     2366.618916               40.109110   \n123    15118.554550    14980.611540     2336.754691               72.613204   \n\n     GPC000455_Unidentified  Unidentified_SPH000009  \n0               2343.750000               90.193262  \n1                281.817876               27.650233  \n2                717.972265               59.452934  \n3                249.812836               65.060721  \n4                930.987044               39.554979  \n..                      ...                     ...  \n119              686.032096               52.077935  \n120              320.006718               39.017096  \n121              496.625821               65.782996  \n122              702.294667               30.488285  \n123             2560.222377               70.016084  \n\n[124 rows x 20 columns]",
      "text/html": "<div>\n<style scoped>\n    .dataframe tbody tr th:only-of-type {\n        vertical-align: middle;\n    }\n\n    .dataframe tbody tr th {\n        vertical-align: top;\n    }\n\n    .dataframe thead th {\n        text-align: right;\n    }\n</style>\n<table border=\"1\" class=\"dataframe\">\n  <thead>\n    <tr style=\"text-align: right;\">\n      <th></th>\n      <th>Galα1-4Galβ1-4Glcβ-Cer(d18:1/24:1)</th>\n      <th>GlcCer(d18:1/18:1)</th>\n      <th>HexCer(d18:1/24:1)</th>\n      <th>Cer(d18:1/23:0)</th>\n      <th>Cer(d18:1/22:1)</th>\n      <th>Cer(d18:1/24:1)</th>\n      <th>Cer(d18:1/25:1)</th>\n      <th>Cer(d18:1/26:1)</th>\n      <th>DG(37:1)</th>\n      <th>PC(18:2/20:4)</th>\n      <th>PC(20:0/20:4)</th>\n      <th>PC(20:0/20:5)</th>\n      <th>SM(d17:1/24:1)</th>\n      <th>SM(d16:1/24:0)</th>\n      <th>SM(d18:1/23:0)</th>\n      <th>SM(d18:2/23:0)</th>\n      <th>SM(d19:1/24:1)</th>\n      <th>GPC000027_Unidentified</th>\n      <th>GPC000455_Unidentified</th>\n      <th>Unidentified_SPH000009</th>\n    </tr>\n  </thead>\n  <tbody>\n    <tr>\n      <th>0</th>\n      <td>1268.301631</td>\n      <td>249.745005</td>\n      <td>12020.105450</td>\n      <td>16427.850060</td>\n      <td>892.800958</td>\n      <td>27777.49884</td>\n      <td>1713.143985</td>\n      <td>935.037444</td>\n      <td>613.198279</td>\n      <td>19437.500000</td>\n      <td>437.625000</td>\n      <td>9325.000000</td>\n      <td>4817.500000</td>\n      <td>4369.802157</td>\n      <td>25600.000000</td>\n      <td>17300.000000</td>\n      <td>4121.250000</td>\n      <td>90.425000</td>\n      <td>2343.750000</td>\n      <td>90.193262</td>\n    </tr>\n    <tr>\n      <th>1</th>\n      <td>752.115272</td>\n      <td>174.240089</td>\n      <td>8495.405127</td>\n      <td>6460.400303</td>\n      <td>690.870918</td>\n      <td>16255.31613</td>\n      <td>711.850355</td>\n      <td>363.725064</td>\n      <td>573.915893</td>\n      <td>6428.016042</td>\n      <td>267.989181</td>\n      <td>2437.313910</td>\n      <td>941.126837</td>\n      <td>1481.435758</td>\n      <td>3880.638709</td>\n      <td>3505.087935</td>\n      <td>423.677214</td>\n      <td>25.882513</td>\n      <td>281.817876</td>\n      <td>27.650233</td>\n    </tr>\n    <tr>\n      <th>2</th>\n      <td>1032.756489</td>\n      <td>162.835933</td>\n      <td>17131.213230</td>\n      <td>16339.624620</td>\n      <td>849.465393</td>\n      <td>32767.91920</td>\n      <td>1826.243963</td>\n      <td>939.747142</td>\n      <td>401.709077</td>\n      <td>9762.113569</td>\n      <td>333.955505</td>\n      <td>3885.368908</td>\n      <td>3398.306397</td>\n      <td>3951.004125</td>\n      <td>11033.781420</td>\n      <td>9778.511958</td>\n      <td>1612.646328</td>\n      <td>32.175675</td>\n      <td>717.972265</td>\n      <td>59.452934</td>\n    </tr>\n    <tr>\n      <th>3</th>\n      <td>309.542304</td>\n      <td>311.633118</td>\n      <td>24975.110370</td>\n      <td>9924.337652</td>\n      <td>1163.956181</td>\n      <td>17098.58609</td>\n      <td>637.691656</td>\n      <td>361.236185</td>\n      <td>795.026386</td>\n      <td>3296.539536</td>\n      <td>155.165899</td>\n      <td>1187.069366</td>\n      <td>443.536196</td>\n      <td>3755.437898</td>\n      <td>5545.148957</td>\n      <td>2142.322888</td>\n      <td>391.503228</td>\n      <td>15.588072</td>\n      <td>249.812836</td>\n      <td>65.060721</td>\n    </tr>\n    <tr>\n      <th>4</th>\n      <td>507.362278</td>\n      <td>85.531818</td>\n      <td>12271.043260</td>\n      <td>7617.034346</td>\n      <td>755.416595</td>\n      <td>20904.59870</td>\n      <td>1194.198887</td>\n      <td>698.256911</td>\n      <td>613.426971</td>\n      <td>13845.663670</td>\n      <td>884.589900</td>\n      <td>9065.288207</td>\n      <td>4951.478054</td>\n      <td>1590.850665</td>\n      <td>11515.309360</td>\n      <td>12197.620310</td>\n      <td>2711.398731</td>\n      <td>52.128556</td>\n      <td>930.987044</td>\n      <td>39.554979</td>\n    </tr>\n    <tr>\n      <th>...</th>\n      <td>...</td>\n      <td>...</td>\n      <td>...</td>\n      <td>...</td>\n      <td>...</td>\n      <td>...</td>\n      <td>...</td>\n      <td>...</td>\n      <td>...</td>\n      <td>...</td>\n      <td>...</td>\n      <td>...</td>\n      <td>...</td>\n      <td>...</td>\n      <td>...</td>\n      <td>...</td>\n      <td>...</td>\n      <td>...</td>\n      <td>...</td>\n      <td>...</td>\n    </tr>\n    <tr>\n      <th>119</th>\n      <td>1296.964402</td>\n      <td>372.779665</td>\n      <td>14649.590590</td>\n      <td>5359.214333</td>\n      <td>469.785627</td>\n      <td>13357.84447</td>\n      <td>539.252015</td>\n      <td>438.116596</td>\n      <td>260.032365</td>\n      <td>11064.629850</td>\n      <td>625.102066</td>\n      <td>3836.509795</td>\n      <td>2325.726164</td>\n      <td>3096.770912</td>\n      <td>9228.713707</td>\n      <td>4633.406656</td>\n      <td>1925.834080</td>\n      <td>57.194220</td>\n      <td>686.032096</td>\n      <td>52.077935</td>\n    </tr>\n    <tr>\n      <th>120</th>\n      <td>1074.413292</td>\n      <td>40.549851</td>\n      <td>9945.468657</td>\n      <td>4751.807371</td>\n      <td>259.094434</td>\n      <td>12320.91253</td>\n      <td>463.584263</td>\n      <td>266.525078</td>\n      <td>117.594133</td>\n      <td>7036.845023</td>\n      <td>301.810010</td>\n      <td>1810.654220</td>\n      <td>2131.363937</td>\n      <td>2020.227467</td>\n      <td>7394.071582</td>\n      <td>8279.410631</td>\n      <td>1041.229375</td>\n      <td>14.204281</td>\n      <td>320.006718</td>\n      <td>39.017096</td>\n    </tr>\n    <tr>\n      <th>121</th>\n      <td>653.995659</td>\n      <td>45.362047</td>\n      <td>7482.021211</td>\n      <td>7772.862645</td>\n      <td>384.513496</td>\n      <td>17301.17736</td>\n      <td>918.582726</td>\n      <td>461.790150</td>\n      <td>181.441391</td>\n      <td>9181.887067</td>\n      <td>679.008126</td>\n      <td>2654.510074</td>\n      <td>2558.202749</td>\n      <td>2704.896068</td>\n      <td>6136.551607</td>\n      <td>4996.222354</td>\n      <td>1408.171062</td>\n      <td>84.653898</td>\n      <td>496.625821</td>\n      <td>65.782996</td>\n    </tr>\n    <tr>\n      <th>122</th>\n      <td>596.735829</td>\n      <td>94.663376</td>\n      <td>10967.962110</td>\n      <td>3974.790164</td>\n      <td>240.279961</td>\n      <td>10297.99045</td>\n      <td>485.538727</td>\n      <td>386.856723</td>\n      <td>285.215828</td>\n      <td>6258.422267</td>\n      <td>346.993857</td>\n      <td>1720.780561</td>\n      <td>5462.061503</td>\n      <td>1654.575810</td>\n      <td>11518.310700</td>\n      <td>8139.995656</td>\n      <td>2366.618916</td>\n      <td>40.109110</td>\n      <td>702.294667</td>\n      <td>30.488285</td>\n    </tr>\n    <tr>\n      <th>123</th>\n      <td>896.622752</td>\n      <td>114.054250</td>\n      <td>18605.110830</td>\n      <td>13406.307250</td>\n      <td>1143.918752</td>\n      <td>32699.08962</td>\n      <td>1475.688880</td>\n      <td>740.537276</td>\n      <td>391.975105</td>\n      <td>17767.060460</td>\n      <td>1340.668172</td>\n      <td>8134.499653</td>\n      <td>6316.410702</td>\n      <td>3102.471127</td>\n      <td>15118.554550</td>\n      <td>14980.611540</td>\n      <td>2336.754691</td>\n      <td>72.613204</td>\n      <td>2560.222377</td>\n      <td>70.016084</td>\n    </tr>\n  </tbody>\n</table>\n<p>124 rows × 20 columns</p>\n</div>"
     },
     "execution_count": 102,
     "metadata": {},
     "output_type": "execute_result"
    }
   ],
   "source": [
    "df.iloc[:, df.columns.isin(top20['features'].values )]"
   ],
   "metadata": {
    "collapsed": false,
    "pycharm": {
     "name": "#%%\n"
    }
   }
  },
  {
   "cell_type": "code",
   "execution_count": 103,
   "outputs": [
    {
     "data": {
      "text/plain": "(-0.11893804065545131, 0.4156629751713328)"
     },
     "execution_count": 103,
     "metadata": {},
     "output_type": "execute_result"
    }
   ],
   "source": [
    "from scipy.stats import pearsonr\n",
    "pearsonr(mmse_df[\"MMSE\"], mmse_df[\"Age\"])\n"
   ],
   "metadata": {
    "collapsed": false,
    "pycharm": {
     "name": "#%%\n"
    }
   }
  },
  {
   "cell_type": "code",
   "execution_count": 104,
   "outputs": [
    {
     "data": {
      "text/plain": "     Galα1-4Galβ1-4Glcβ-Cer(d18:1/24:1)  GlcCer(d18:1/18:1)  \\\n0                           1268.301631          249.745005   \n1                            752.115272          174.240089   \n2                           1032.756489          162.835933   \n3                            309.542304          311.633118   \n4                            507.362278           85.531818   \n..                                  ...                 ...   \n119                         1296.964402          372.779665   \n120                         1074.413292           40.549851   \n121                          653.995659           45.362047   \n122                          596.735829           94.663376   \n123                          896.622752          114.054250   \n\n     HexCer(d18:1/24:1)  Cer(d18:1/23:0)  Cer(d18:1/22:1)  Cer(d18:1/24:1)  \\\n0          12020.105450     16427.850060       892.800958      27777.49884   \n1           8495.405127      6460.400303       690.870918      16255.31613   \n2          17131.213230     16339.624620       849.465393      32767.91920   \n3          24975.110370      9924.337652      1163.956181      17098.58609   \n4          12271.043260      7617.034346       755.416595      20904.59870   \n..                  ...              ...              ...              ...   \n119        14649.590590      5359.214333       469.785627      13357.84447   \n120         9945.468657      4751.807371       259.094434      12320.91253   \n121         7482.021211      7772.862645       384.513496      17301.17736   \n122        10967.962110      3974.790164       240.279961      10297.99045   \n123        18605.110830     13406.307250      1143.918752      32699.08962   \n\n     Cer(d18:1/25:1)  Cer(d18:1/26:1)    DG(37:1)  PC(18:2/20:4)  \\\n0        1713.143985       935.037444  613.198279   19437.500000   \n1         711.850355       363.725064  573.915893    6428.016042   \n2        1826.243963       939.747142  401.709077    9762.113569   \n3         637.691656       361.236185  795.026386    3296.539536   \n4        1194.198887       698.256911  613.426971   13845.663670   \n..               ...              ...         ...            ...   \n119       539.252015       438.116596  260.032365   11064.629850   \n120       463.584263       266.525078  117.594133    7036.845023   \n121       918.582726       461.790150  181.441391    9181.887067   \n122       485.538727       386.856723  285.215828    6258.422267   \n123      1475.688880       740.537276  391.975105   17767.060460   \n\n     PC(20:0/20:4)  PC(20:0/20:5)  SM(d17:1/24:1)  SM(d16:1/24:0)  \\\n0       437.625000    9325.000000     4817.500000     4369.802157   \n1       267.989181    2437.313910      941.126837     1481.435758   \n2       333.955505    3885.368908     3398.306397     3951.004125   \n3       155.165899    1187.069366      443.536196     3755.437898   \n4       884.589900    9065.288207     4951.478054     1590.850665   \n..             ...            ...             ...             ...   \n119     625.102066    3836.509795     2325.726164     3096.770912   \n120     301.810010    1810.654220     2131.363937     2020.227467   \n121     679.008126    2654.510074     2558.202749     2704.896068   \n122     346.993857    1720.780561     5462.061503     1654.575810   \n123    1340.668172    8134.499653     6316.410702     3102.471127   \n\n     SM(d18:1/23:0)  SM(d18:2/23:0)  SM(d19:1/24:1)  GPC000027_Unidentified  \\\n0      25600.000000    17300.000000     4121.250000               90.425000   \n1       3880.638709     3505.087935      423.677214               25.882513   \n2      11033.781420     9778.511958     1612.646328               32.175675   \n3       5545.148957     2142.322888      391.503228               15.588072   \n4      11515.309360    12197.620310     2711.398731               52.128556   \n..              ...             ...             ...                     ...   \n119     9228.713707     4633.406656     1925.834080               57.194220   \n120     7394.071582     8279.410631     1041.229375               14.204281   \n121     6136.551607     4996.222354     1408.171062               84.653898   \n122    11518.310700     8139.995656     2366.618916               40.109110   \n123    15118.554550    14980.611540     2336.754691               72.613204   \n\n     GPC000455_Unidentified  Unidentified_SPH000009  \n0               2343.750000               90.193262  \n1                281.817876               27.650233  \n2                717.972265               59.452934  \n3                249.812836               65.060721  \n4                930.987044               39.554979  \n..                      ...                     ...  \n119              686.032096               52.077935  \n120              320.006718               39.017096  \n121              496.625821               65.782996  \n122              702.294667               30.488285  \n123             2560.222377               70.016084  \n\n[124 rows x 20 columns]",
      "text/html": "<div>\n<style scoped>\n    .dataframe tbody tr th:only-of-type {\n        vertical-align: middle;\n    }\n\n    .dataframe tbody tr th {\n        vertical-align: top;\n    }\n\n    .dataframe thead th {\n        text-align: right;\n    }\n</style>\n<table border=\"1\" class=\"dataframe\">\n  <thead>\n    <tr style=\"text-align: right;\">\n      <th></th>\n      <th>Galα1-4Galβ1-4Glcβ-Cer(d18:1/24:1)</th>\n      <th>GlcCer(d18:1/18:1)</th>\n      <th>HexCer(d18:1/24:1)</th>\n      <th>Cer(d18:1/23:0)</th>\n      <th>Cer(d18:1/22:1)</th>\n      <th>Cer(d18:1/24:1)</th>\n      <th>Cer(d18:1/25:1)</th>\n      <th>Cer(d18:1/26:1)</th>\n      <th>DG(37:1)</th>\n      <th>PC(18:2/20:4)</th>\n      <th>PC(20:0/20:4)</th>\n      <th>PC(20:0/20:5)</th>\n      <th>SM(d17:1/24:1)</th>\n      <th>SM(d16:1/24:0)</th>\n      <th>SM(d18:1/23:0)</th>\n      <th>SM(d18:2/23:0)</th>\n      <th>SM(d19:1/24:1)</th>\n      <th>GPC000027_Unidentified</th>\n      <th>GPC000455_Unidentified</th>\n      <th>Unidentified_SPH000009</th>\n    </tr>\n  </thead>\n  <tbody>\n    <tr>\n      <th>0</th>\n      <td>1268.301631</td>\n      <td>249.745005</td>\n      <td>12020.105450</td>\n      <td>16427.850060</td>\n      <td>892.800958</td>\n      <td>27777.49884</td>\n      <td>1713.143985</td>\n      <td>935.037444</td>\n      <td>613.198279</td>\n      <td>19437.500000</td>\n      <td>437.625000</td>\n      <td>9325.000000</td>\n      <td>4817.500000</td>\n      <td>4369.802157</td>\n      <td>25600.000000</td>\n      <td>17300.000000</td>\n      <td>4121.250000</td>\n      <td>90.425000</td>\n      <td>2343.750000</td>\n      <td>90.193262</td>\n    </tr>\n    <tr>\n      <th>1</th>\n      <td>752.115272</td>\n      <td>174.240089</td>\n      <td>8495.405127</td>\n      <td>6460.400303</td>\n      <td>690.870918</td>\n      <td>16255.31613</td>\n      <td>711.850355</td>\n      <td>363.725064</td>\n      <td>573.915893</td>\n      <td>6428.016042</td>\n      <td>267.989181</td>\n      <td>2437.313910</td>\n      <td>941.126837</td>\n      <td>1481.435758</td>\n      <td>3880.638709</td>\n      <td>3505.087935</td>\n      <td>423.677214</td>\n      <td>25.882513</td>\n      <td>281.817876</td>\n      <td>27.650233</td>\n    </tr>\n    <tr>\n      <th>2</th>\n      <td>1032.756489</td>\n      <td>162.835933</td>\n      <td>17131.213230</td>\n      <td>16339.624620</td>\n      <td>849.465393</td>\n      <td>32767.91920</td>\n      <td>1826.243963</td>\n      <td>939.747142</td>\n      <td>401.709077</td>\n      <td>9762.113569</td>\n      <td>333.955505</td>\n      <td>3885.368908</td>\n      <td>3398.306397</td>\n      <td>3951.004125</td>\n      <td>11033.781420</td>\n      <td>9778.511958</td>\n      <td>1612.646328</td>\n      <td>32.175675</td>\n      <td>717.972265</td>\n      <td>59.452934</td>\n    </tr>\n    <tr>\n      <th>3</th>\n      <td>309.542304</td>\n      <td>311.633118</td>\n      <td>24975.110370</td>\n      <td>9924.337652</td>\n      <td>1163.956181</td>\n      <td>17098.58609</td>\n      <td>637.691656</td>\n      <td>361.236185</td>\n      <td>795.026386</td>\n      <td>3296.539536</td>\n      <td>155.165899</td>\n      <td>1187.069366</td>\n      <td>443.536196</td>\n      <td>3755.437898</td>\n      <td>5545.148957</td>\n      <td>2142.322888</td>\n      <td>391.503228</td>\n      <td>15.588072</td>\n      <td>249.812836</td>\n      <td>65.060721</td>\n    </tr>\n    <tr>\n      <th>4</th>\n      <td>507.362278</td>\n      <td>85.531818</td>\n      <td>12271.043260</td>\n      <td>7617.034346</td>\n      <td>755.416595</td>\n      <td>20904.59870</td>\n      <td>1194.198887</td>\n      <td>698.256911</td>\n      <td>613.426971</td>\n      <td>13845.663670</td>\n      <td>884.589900</td>\n      <td>9065.288207</td>\n      <td>4951.478054</td>\n      <td>1590.850665</td>\n      <td>11515.309360</td>\n      <td>12197.620310</td>\n      <td>2711.398731</td>\n      <td>52.128556</td>\n      <td>930.987044</td>\n      <td>39.554979</td>\n    </tr>\n    <tr>\n      <th>...</th>\n      <td>...</td>\n      <td>...</td>\n      <td>...</td>\n      <td>...</td>\n      <td>...</td>\n      <td>...</td>\n      <td>...</td>\n      <td>...</td>\n      <td>...</td>\n      <td>...</td>\n      <td>...</td>\n      <td>...</td>\n      <td>...</td>\n      <td>...</td>\n      <td>...</td>\n      <td>...</td>\n      <td>...</td>\n      <td>...</td>\n      <td>...</td>\n      <td>...</td>\n    </tr>\n    <tr>\n      <th>119</th>\n      <td>1296.964402</td>\n      <td>372.779665</td>\n      <td>14649.590590</td>\n      <td>5359.214333</td>\n      <td>469.785627</td>\n      <td>13357.84447</td>\n      <td>539.252015</td>\n      <td>438.116596</td>\n      <td>260.032365</td>\n      <td>11064.629850</td>\n      <td>625.102066</td>\n      <td>3836.509795</td>\n      <td>2325.726164</td>\n      <td>3096.770912</td>\n      <td>9228.713707</td>\n      <td>4633.406656</td>\n      <td>1925.834080</td>\n      <td>57.194220</td>\n      <td>686.032096</td>\n      <td>52.077935</td>\n    </tr>\n    <tr>\n      <th>120</th>\n      <td>1074.413292</td>\n      <td>40.549851</td>\n      <td>9945.468657</td>\n      <td>4751.807371</td>\n      <td>259.094434</td>\n      <td>12320.91253</td>\n      <td>463.584263</td>\n      <td>266.525078</td>\n      <td>117.594133</td>\n      <td>7036.845023</td>\n      <td>301.810010</td>\n      <td>1810.654220</td>\n      <td>2131.363937</td>\n      <td>2020.227467</td>\n      <td>7394.071582</td>\n      <td>8279.410631</td>\n      <td>1041.229375</td>\n      <td>14.204281</td>\n      <td>320.006718</td>\n      <td>39.017096</td>\n    </tr>\n    <tr>\n      <th>121</th>\n      <td>653.995659</td>\n      <td>45.362047</td>\n      <td>7482.021211</td>\n      <td>7772.862645</td>\n      <td>384.513496</td>\n      <td>17301.17736</td>\n      <td>918.582726</td>\n      <td>461.790150</td>\n      <td>181.441391</td>\n      <td>9181.887067</td>\n      <td>679.008126</td>\n      <td>2654.510074</td>\n      <td>2558.202749</td>\n      <td>2704.896068</td>\n      <td>6136.551607</td>\n      <td>4996.222354</td>\n      <td>1408.171062</td>\n      <td>84.653898</td>\n      <td>496.625821</td>\n      <td>65.782996</td>\n    </tr>\n    <tr>\n      <th>122</th>\n      <td>596.735829</td>\n      <td>94.663376</td>\n      <td>10967.962110</td>\n      <td>3974.790164</td>\n      <td>240.279961</td>\n      <td>10297.99045</td>\n      <td>485.538727</td>\n      <td>386.856723</td>\n      <td>285.215828</td>\n      <td>6258.422267</td>\n      <td>346.993857</td>\n      <td>1720.780561</td>\n      <td>5462.061503</td>\n      <td>1654.575810</td>\n      <td>11518.310700</td>\n      <td>8139.995656</td>\n      <td>2366.618916</td>\n      <td>40.109110</td>\n      <td>702.294667</td>\n      <td>30.488285</td>\n    </tr>\n    <tr>\n      <th>123</th>\n      <td>896.622752</td>\n      <td>114.054250</td>\n      <td>18605.110830</td>\n      <td>13406.307250</td>\n      <td>1143.918752</td>\n      <td>32699.08962</td>\n      <td>1475.688880</td>\n      <td>740.537276</td>\n      <td>391.975105</td>\n      <td>17767.060460</td>\n      <td>1340.668172</td>\n      <td>8134.499653</td>\n      <td>6316.410702</td>\n      <td>3102.471127</td>\n      <td>15118.554550</td>\n      <td>14980.611540</td>\n      <td>2336.754691</td>\n      <td>72.613204</td>\n      <td>2560.222377</td>\n      <td>70.016084</td>\n    </tr>\n  </tbody>\n</table>\n<p>124 rows × 20 columns</p>\n</div>"
     },
     "execution_count": 104,
     "metadata": {},
     "output_type": "execute_result"
    }
   ],
   "source": [
    "df.iloc[:, df.columns.isin(top20['features'].values )]"
   ],
   "metadata": {
    "collapsed": false,
    "pycharm": {
     "name": "#%%\n"
    }
   }
  },
  {
   "cell_type": "code",
   "execution_count": 105,
   "outputs": [],
   "source": [
    "from scipy.stats import zscore\n",
    "mmse_df['Sex'] = mmse_df['Sex'].replace(to_replace='M', value=0)\n",
    "mmse_df['Sex'] = mmse_df['Sex'].replace(to_replace='F', value=1)\n",
    "import scipy.stats as stats\n",
    "# fvalue, pvalue = stats.f_oneway(mmse_df[\"MMSE\"], mmse_df[\"Age\"], mmse_df['Sex'])\n",
    "fvalue, pvalue = stats.f_oneway(zscore(mmse_df[\"MMSE\"]), zscore(mmse_df[\"Age\"]))"
   ],
   "metadata": {
    "collapsed": false,
    "pycharm": {
     "name": "#%%\n"
    }
   }
  },
  {
   "cell_type": "code",
   "execution_count": 106,
   "outputs": [
    {
     "data": {
      "text/plain": "1.7618215260182922e-29"
     },
     "execution_count": 106,
     "metadata": {},
     "output_type": "execute_result"
    }
   ],
   "source": [
    "fvalue"
   ],
   "metadata": {
    "collapsed": false,
    "pycharm": {
     "name": "#%%\n"
    }
   }
  },
  {
   "cell_type": "code",
   "execution_count": 107,
   "outputs": [
    {
     "data": {
      "text/plain": "1.0"
     },
     "execution_count": 107,
     "metadata": {},
     "output_type": "execute_result"
    }
   ],
   "source": [
    "pvalue\n"
   ],
   "metadata": {
    "collapsed": false,
    "pycharm": {
     "name": "#%%\n"
    }
   }
  },
  {
   "cell_type": "code",
   "execution_count": 108,
   "outputs": [],
   "source": [
    "fvalue, pvalue = stats.f_oneway(zscore(mmse_df[\"MMSE\"]), zscore(mmse_df[\"Age\"]), zscore(mmse_df['Sex']))"
   ],
   "metadata": {
    "collapsed": false,
    "pycharm": {
     "name": "#%%\n"
    }
   }
  },
  {
   "cell_type": "code",
   "execution_count": 109,
   "outputs": [
    {
     "data": {
      "text/plain": "1.1417668643846732e-29"
     },
     "execution_count": 109,
     "metadata": {},
     "output_type": "execute_result"
    }
   ],
   "source": [
    "fvalue\n"
   ],
   "metadata": {
    "collapsed": false,
    "pycharm": {
     "name": "#%%\n"
    }
   }
  },
  {
   "cell_type": "code",
   "execution_count": 110,
   "outputs": [
    {
     "data": {
      "text/plain": "1.0"
     },
     "execution_count": 110,
     "metadata": {},
     "output_type": "execute_result"
    }
   ],
   "source": [
    "pvalue\n"
   ],
   "metadata": {
    "collapsed": false,
    "pycharm": {
     "name": "#%%\n"
    }
   }
  },
  {
   "cell_type": "code",
   "execution_count": 111,
   "outputs": [],
   "source": [
    "fvalue, pvalue = stats.f_oneway( zscore(mmse_df[\"Age\"]), zscore(mmse_df['Sex']))"
   ],
   "metadata": {
    "collapsed": false,
    "pycharm": {
     "name": "#%%\n"
    }
   }
  },
  {
   "cell_type": "code",
   "execution_count": 112,
   "outputs": [
    {
     "data": {
      "text/plain": "1.4121197495779347e-29"
     },
     "execution_count": 112,
     "metadata": {},
     "output_type": "execute_result"
    }
   ],
   "source": [
    "fvalue"
   ],
   "metadata": {
    "collapsed": false,
    "pycharm": {
     "name": "#%%\n"
    }
   }
  },
  {
   "cell_type": "code",
   "execution_count": 113,
   "outputs": [
    {
     "data": {
      "text/plain": "1.0"
     },
     "execution_count": 113,
     "metadata": {},
     "output_type": "execute_result"
    }
   ],
   "source": [
    "pvalue\n"
   ],
   "metadata": {
    "collapsed": false,
    "pycharm": {
     "name": "#%%\n"
    }
   }
  },
  {
   "cell_type": "code",
   "execution_count": 113,
   "outputs": [],
   "source": [],
   "metadata": {
    "collapsed": false,
    "pycharm": {
     "name": "#%%\n"
    }
   }
  },
  {
   "cell_type": "code",
   "execution_count": 113,
   "outputs": [],
   "source": [],
   "metadata": {
    "collapsed": false,
    "pycharm": {
     "name": "#%%\n"
    }
   }
  },
  {
   "cell_type": "code",
   "execution_count": 113,
   "outputs": [],
   "source": [],
   "metadata": {
    "collapsed": false,
    "pycharm": {
     "name": "#%%\n"
    }
   }
  },
  {
   "cell_type": "code",
   "execution_count": 113,
   "outputs": [],
   "source": [
    "\n",
    "\n"
   ],
   "metadata": {
    "collapsed": false,
    "pycharm": {
     "name": "#%%\n"
    }
   }
  },
  {
   "cell_type": "code",
   "execution_count": 114,
   "outputs": [
    {
     "data": {
      "text/plain": "1.4121197495779347e-29"
     },
     "execution_count": 114,
     "metadata": {},
     "output_type": "execute_result"
    }
   ],
   "source": [
    "fvalue\n"
   ],
   "metadata": {
    "collapsed": false,
    "pycharm": {
     "name": "#%%\n"
    }
   }
  },
  {
   "cell_type": "code",
   "execution_count": 115,
   "outputs": [
    {
     "data": {
      "text/plain": "1.0"
     },
     "execution_count": 115,
     "metadata": {},
     "output_type": "execute_result"
    }
   ],
   "source": [
    "pvalue\n"
   ],
   "metadata": {
    "collapsed": false,
    "pycharm": {
     "name": "#%%\n"
    }
   }
  },
  {
   "cell_type": "code",
   "execution_count": 116,
   "outputs": [],
   "source": [
    "fvalue, pvalue = stats.f_oneway( zscore(mmse_df[\"Age\"]), zscore(mmse_df['Sex']))"
   ],
   "metadata": {
    "collapsed": false,
    "pycharm": {
     "name": "#%%\n"
    }
   }
  },
  {
   "cell_type": "code",
   "execution_count": 117,
   "outputs": [
    {
     "data": {
      "text/plain": "1.4121197495779347e-29"
     },
     "execution_count": 117,
     "metadata": {},
     "output_type": "execute_result"
    }
   ],
   "source": [
    "fvalue"
   ],
   "metadata": {
    "collapsed": false,
    "pycharm": {
     "name": "#%%\n"
    }
   }
  },
  {
   "cell_type": "code",
   "execution_count": 118,
   "outputs": [
    {
     "data": {
      "text/plain": "1.0"
     },
     "execution_count": 118,
     "metadata": {},
     "output_type": "execute_result"
    }
   ],
   "source": [
    "pvalue\n"
   ],
   "metadata": {
    "collapsed": false,
    "pycharm": {
     "name": "#%%\n"
    }
   }
  },
  {
   "cell_type": "code",
   "execution_count": 118,
   "outputs": [],
   "source": [],
   "metadata": {
    "collapsed": false,
    "pycharm": {
     "name": "#%%\n"
    }
   }
  },
  {
   "cell_type": "code",
   "execution_count": 118,
   "outputs": [],
   "source": [],
   "metadata": {
    "collapsed": false,
    "pycharm": {
     "name": "#%%\n"
    }
   }
  },
  {
   "cell_type": "code",
   "execution_count": 119,
   "outputs": [
    {
     "data": {
      "text/plain": "1.0"
     },
     "execution_count": 119,
     "metadata": {},
     "output_type": "execute_result"
    }
   ],
   "source": [
    "pvalue\n"
   ],
   "metadata": {
    "collapsed": false,
    "pycharm": {
     "name": "#%%\n"
    }
   }
  },
  {
   "cell_type": "code",
   "execution_count": 120,
   "outputs": [],
   "source": [
    "fvalue, pvalue = stats.f_oneway( zscore(mmse_df[\"Age\"]), zscore(mmse_df['Sex']))"
   ],
   "metadata": {
    "collapsed": false,
    "pycharm": {
     "name": "#%%\n"
    }
   }
  },
  {
   "cell_type": "code",
   "execution_count": null,
   "outputs": [],
   "source": [
    "fvalue"
   ],
   "metadata": {
    "collapsed": false,
    "pycharm": {
     "name": "#%%\n"
    }
   }
  },
  {
   "cell_type": "code",
   "execution_count": null,
   "outputs": [],
   "source": [
    "pvalue\n"
   ],
   "metadata": {
    "collapsed": false,
    "pycharm": {
     "name": "#%%\n"
    }
   }
  },
  {
   "cell_type": "code",
   "execution_count": null,
   "outputs": [],
   "source": [],
   "metadata": {
    "collapsed": false,
    "pycharm": {
     "name": "#%%\n"
    }
   }
  }
 ],
 "metadata": {
  "kernelspec": {
   "display_name": "Python 3",
   "language": "python",
   "name": "python3"
  },
  "language_info": {
   "codemirror_mode": {
    "name": "ipython",
    "version": 2
   },
   "file_extension": ".py",
   "mimetype": "text/x-python",
   "name": "python",
   "nbconvert_exporter": "python",
   "pygments_lexer": "ipython2",
   "version": "2.7.6"
  }
 },
 "nbformat": 4,
 "nbformat_minor": 0
}